{
 "cells": [
  {
   "cell_type": "code",
   "execution_count": 1,
   "metadata": {},
   "outputs": [],
   "source": [
    "import pandas as pd\n",
    "import matplotlib.pyplot as plt\n",
    "import seaborn as sns\n",
    "import numpy as np\n",
    "import collections\n",
    "from matplotlib.colors import ListedColormap\n",
    "import re\n",
    "from sklearn.feature_extraction.text import CountVectorizer, TfidfVectorizer  ## 방법 2개\n",
    "from collections import Counter\n",
    "from gensim.models import Word2Vec\n",
    "\n",
    "\n",
    "\n",
    "plt.rc('font', family='AppleGothic') \n",
    "plt.rcParams['axes.unicode_minus'] =False"
   ]
  },
  {
   "cell_type": "code",
   "execution_count": 7,
   "metadata": {},
   "outputs": [
    {
     "data": {
      "text/html": [
       "<div>\n",
       "<style scoped>\n",
       "    .dataframe tbody tr th:only-of-type {\n",
       "        vertical-align: middle;\n",
       "    }\n",
       "\n",
       "    .dataframe tbody tr th {\n",
       "        vertical-align: top;\n",
       "    }\n",
       "\n",
       "    .dataframe thead th {\n",
       "        text-align: right;\n",
       "    }\n",
       "</style>\n",
       "<table border=\"1\" class=\"dataframe\">\n",
       "  <thead>\n",
       "    <tr style=\"text-align: right;\">\n",
       "      <th></th>\n",
       "      <th>순위</th>\n",
       "      <th>카테고리</th>\n",
       "      <th>세부 카테고리</th>\n",
       "      <th>브랜드</th>\n",
       "      <th>상품명</th>\n",
       "      <th>정가</th>\n",
       "      <th>할인율</th>\n",
       "      <th>할인가</th>\n",
       "      <th>최저가</th>\n",
       "      <th>평균 리뷰 점수</th>\n",
       "      <th>리뷰 개수</th>\n",
       "      <th>배송</th>\n",
       "      <th>링크</th>\n",
       "      <th>상품ID</th>\n",
       "    </tr>\n",
       "  </thead>\n",
       "  <tbody>\n",
       "    <tr>\n",
       "      <th>0</th>\n",
       "      <td>1</td>\n",
       "      <td>의류</td>\n",
       "      <td>상의</td>\n",
       "      <td>퍼빗</td>\n",
       "      <td>퍼빗 [랩티1등🏆/누적5만장🩰/모델전색소장💗/평점4.8극찬💭/기모ver.] 단독제작...</td>\n",
       "      <td>43200</td>\n",
       "      <td>0.31</td>\n",
       "      <td>37300.0</td>\n",
       "      <td>29840</td>\n",
       "      <td>4.8</td>\n",
       "      <td>4509</td>\n",
       "      <td>일반배송무료배송</td>\n",
       "      <td>https://zigzag.kr/catalog/products/130108350</td>\n",
       "      <td>130108350</td>\n",
       "    </tr>\n",
       "    <tr>\n",
       "      <th>1</th>\n",
       "      <td>2</td>\n",
       "      <td>의류</td>\n",
       "      <td>상의</td>\n",
       "      <td>리얼코코</td>\n",
       "      <td>리얼코코 [단독] [봄신상🌸/브이넥&amp;amp;라운드넥/made] 시오 니트 - 20 ...</td>\n",
       "      <td>51000</td>\n",
       "      <td>0.57</td>\n",
       "      <td>24630.0</td>\n",
       "      <td>22160</td>\n",
       "      <td>4.8</td>\n",
       "      <td>16998</td>\n",
       "      <td>직진배송</td>\n",
       "      <td>https://zigzag.kr/catalog/products/147921597</td>\n",
       "      <td>147921597</td>\n",
       "    </tr>\n",
       "    <tr>\n",
       "      <th>2</th>\n",
       "      <td>3</td>\n",
       "      <td>의류</td>\n",
       "      <td>하의</td>\n",
       "      <td>고고싱</td>\n",
       "      <td>고고싱 [역대급53만장🏆11컬러/부츠컷슬랙스🌷봄팬츠] 반하이 모찌슬랙스 #세미부츠컷...</td>\n",
       "      <td>34900</td>\n",
       "      <td>0.36</td>\n",
       "      <td>24800.0</td>\n",
       "      <td>22320</td>\n",
       "      <td>4.7</td>\n",
       "      <td>77846</td>\n",
       "      <td>직진배송</td>\n",
       "      <td>https://zigzag.kr/catalog/products/113041967</td>\n",
       "      <td>113041967</td>\n",
       "    </tr>\n",
       "    <tr>\n",
       "      <th>3</th>\n",
       "      <td>4</td>\n",
       "      <td>의류</td>\n",
       "      <td>상의</td>\n",
       "      <td>데일리쥬</td>\n",
       "      <td>데일리쥬 [단독][1만장판매/MADE] 라스카 레이어드 텐셀 라운드 티셔츠 (워머옵...</td>\n",
       "      <td>30000</td>\n",
       "      <td>0.36</td>\n",
       "      <td>21370.0</td>\n",
       "      <td>19230</td>\n",
       "      <td>4.7</td>\n",
       "      <td>5248</td>\n",
       "      <td>직진배송</td>\n",
       "      <td>https://zigzag.kr/catalog/products/128943162</td>\n",
       "      <td>128943162</td>\n",
       "    </tr>\n",
       "    <tr>\n",
       "      <th>4</th>\n",
       "      <td>5</td>\n",
       "      <td>의류</td>\n",
       "      <td>상의</td>\n",
       "      <td>마이온샵</td>\n",
       "      <td>마이온샵 [BEST][누적2만장돌파🥇][4타입] #MADE 메로트 골지 니트티 (4...</td>\n",
       "      <td>43000</td>\n",
       "      <td>0.42</td>\n",
       "      <td>31160.0</td>\n",
       "      <td>24920</td>\n",
       "      <td>4.7</td>\n",
       "      <td>3215</td>\n",
       "      <td>직진배송</td>\n",
       "      <td>https://zigzag.kr/catalog/products/129147932</td>\n",
       "      <td>129147932</td>\n",
       "    </tr>\n",
       "    <tr>\n",
       "      <th>...</th>\n",
       "      <td>...</td>\n",
       "      <td>...</td>\n",
       "      <td>...</td>\n",
       "      <td>...</td>\n",
       "      <td>...</td>\n",
       "      <td>...</td>\n",
       "      <td>...</td>\n",
       "      <td>...</td>\n",
       "      <td>...</td>\n",
       "      <td>...</td>\n",
       "      <td>...</td>\n",
       "      <td>...</td>\n",
       "      <td>...</td>\n",
       "      <td>...</td>\n",
       "    </tr>\n",
       "    <tr>\n",
       "      <th>295</th>\n",
       "      <td>46</td>\n",
       "      <td>뷰티</td>\n",
       "      <td>NaN</td>\n",
       "      <td>약손명가헬스케어</td>\n",
       "      <td>약손명가헬스케어 [직잭픽][원조리프팅밴드] 약손명가 작은얼굴관리 리프팅 밴드 1Bo...</td>\n",
       "      <td>69000</td>\n",
       "      <td>0.47</td>\n",
       "      <td>36900.0</td>\n",
       "      <td>36900</td>\n",
       "      <td>4.8</td>\n",
       "      <td>1315</td>\n",
       "      <td>무료배송</td>\n",
       "      <td>https://zigzag.kr/catalog/products/132075437</td>\n",
       "      <td>132075437</td>\n",
       "    </tr>\n",
       "    <tr>\n",
       "      <th>296</th>\n",
       "      <td>47</td>\n",
       "      <td>뷰티</td>\n",
       "      <td>NaN</td>\n",
       "      <td>바닐라코</td>\n",
       "      <td>바닐라코 스머징 립 펜슬</td>\n",
       "      <td>14000</td>\n",
       "      <td>0.28</td>\n",
       "      <td>10080.0</td>\n",
       "      <td>10080</td>\n",
       "      <td>4.8</td>\n",
       "      <td>1868</td>\n",
       "      <td>일반배송무료배송</td>\n",
       "      <td>https://zigzag.kr/catalog/products/125973586</td>\n",
       "      <td>125973586</td>\n",
       "    </tr>\n",
       "    <tr>\n",
       "      <th>297</th>\n",
       "      <td>48</td>\n",
       "      <td>뷰티</td>\n",
       "      <td>NaN</td>\n",
       "      <td>투쿨포스쿨</td>\n",
       "      <td>투쿨포스쿨 💖코코초PICK/NEW컬러💖 스머징 트임라이너</td>\n",
       "      <td>12000</td>\n",
       "      <td>0.18</td>\n",
       "      <td>9900.0</td>\n",
       "      <td>9900</td>\n",
       "      <td>4.8</td>\n",
       "      <td>8127</td>\n",
       "      <td>무료배송</td>\n",
       "      <td>https://zigzag.kr/catalog/products/132867464</td>\n",
       "      <td>132867464</td>\n",
       "    </tr>\n",
       "    <tr>\n",
       "      <th>298</th>\n",
       "      <td>49</td>\n",
       "      <td>뷰티</td>\n",
       "      <td>NaN</td>\n",
       "      <td>베노프</td>\n",
       "      <td>베노프 [15회분] 20g 단백질쉐이크 초콜릿시리얼/미숫가루시리얼/초코헤이즐넛라떼 ...</td>\n",
       "      <td>39900</td>\n",
       "      <td>0.32</td>\n",
       "      <td>32900.0</td>\n",
       "      <td>26970</td>\n",
       "      <td>4.9</td>\n",
       "      <td>3940</td>\n",
       "      <td>무료배송</td>\n",
       "      <td>https://zigzag.kr/catalog/products/140368165</td>\n",
       "      <td>140368165</td>\n",
       "    </tr>\n",
       "    <tr>\n",
       "      <th>299</th>\n",
       "      <td>50</td>\n",
       "      <td>뷰티</td>\n",
       "      <td>NaN</td>\n",
       "      <td>입큰</td>\n",
       "      <td>입큰 💖플래쉬 시럽 촉촉 광택 립글로스 3.5g💖</td>\n",
       "      <td>11000</td>\n",
       "      <td>0.55</td>\n",
       "      <td>4900.0</td>\n",
       "      <td>4900</td>\n",
       "      <td>4.8</td>\n",
       "      <td>38</td>\n",
       "      <td>무료배송</td>\n",
       "      <td>https://zigzag.kr/catalog/products/138354495</td>\n",
       "      <td>138354495</td>\n",
       "    </tr>\n",
       "  </tbody>\n",
       "</table>\n",
       "<p>300 rows × 14 columns</p>\n",
       "</div>"
      ],
      "text/plain": [
       "     순위 카테고리 세부 카테고리       브랜드  \\\n",
       "0     1   의류      상의        퍼빗   \n",
       "1     2   의류      상의      리얼코코   \n",
       "2     3   의류      하의       고고싱   \n",
       "3     4   의류      상의      데일리쥬   \n",
       "4     5   의류      상의      마이온샵   \n",
       "..   ..  ...     ...       ...   \n",
       "295  46   뷰티     NaN  약손명가헬스케어   \n",
       "296  47   뷰티     NaN      바닐라코   \n",
       "297  48   뷰티     NaN     투쿨포스쿨   \n",
       "298  49   뷰티     NaN       베노프   \n",
       "299  50   뷰티     NaN        입큰   \n",
       "\n",
       "                                                   상품명     정가   할인율      할인가  \\\n",
       "0    퍼빗 [랩티1등🏆/누적5만장🩰/모델전색소장💗/평점4.8극찬💭/기모ver.] 단독제작...  43200  0.31  37300.0   \n",
       "1    리얼코코 [단독] [봄신상🌸/브이넥&amp;라운드넥/made] 시오 니트 - 20 ...  51000  0.57  24630.0   \n",
       "2    고고싱 [역대급53만장🏆11컬러/부츠컷슬랙스🌷봄팬츠] 반하이 모찌슬랙스 #세미부츠컷...  34900  0.36  24800.0   \n",
       "3    데일리쥬 [단독][1만장판매/MADE] 라스카 레이어드 텐셀 라운드 티셔츠 (워머옵...  30000  0.36  21370.0   \n",
       "4    마이온샵 [BEST][누적2만장돌파🥇][4타입] #MADE 메로트 골지 니트티 (4...  43000  0.42  31160.0   \n",
       "..                                                 ...    ...   ...      ...   \n",
       "295  약손명가헬스케어 [직잭픽][원조리프팅밴드] 약손명가 작은얼굴관리 리프팅 밴드 1Bo...  69000  0.47  36900.0   \n",
       "296                                      바닐라코 스머징 립 펜슬  14000  0.28  10080.0   \n",
       "297                    투쿨포스쿨 💖코코초PICK/NEW컬러💖 스머징 트임라이너  12000  0.18   9900.0   \n",
       "298  베노프 [15회분] 20g 단백질쉐이크 초콜릿시리얼/미숫가루시리얼/초코헤이즐넛라떼 ...  39900  0.32  32900.0   \n",
       "299                        입큰 💖플래쉬 시럽 촉촉 광택 립글로스 3.5g💖  11000  0.55   4900.0   \n",
       "\n",
       "       최저가  평균 리뷰 점수  리뷰 개수        배송  \\\n",
       "0    29840       4.8   4509  일반배송무료배송   \n",
       "1    22160       4.8  16998      직진배송   \n",
       "2    22320       4.7  77846      직진배송   \n",
       "3    19230       4.7   5248      직진배송   \n",
       "4    24920       4.7   3215      직진배송   \n",
       "..     ...       ...    ...       ...   \n",
       "295  36900       4.8   1315      무료배송   \n",
       "296  10080       4.8   1868  일반배송무료배송   \n",
       "297   9900       4.8   8127      무료배송   \n",
       "298  26970       4.9   3940      무료배송   \n",
       "299   4900       4.8     38      무료배송   \n",
       "\n",
       "                                               링크       상품ID  \n",
       "0    https://zigzag.kr/catalog/products/130108350  130108350  \n",
       "1    https://zigzag.kr/catalog/products/147921597  147921597  \n",
       "2    https://zigzag.kr/catalog/products/113041967  113041967  \n",
       "3    https://zigzag.kr/catalog/products/128943162  128943162  \n",
       "4    https://zigzag.kr/catalog/products/129147932  129147932  \n",
       "..                                            ...        ...  \n",
       "295  https://zigzag.kr/catalog/products/132075437  132075437  \n",
       "296  https://zigzag.kr/catalog/products/125973586  125973586  \n",
       "297  https://zigzag.kr/catalog/products/132867464  132867464  \n",
       "298  https://zigzag.kr/catalog/products/140368165  140368165  \n",
       "299  https://zigzag.kr/catalog/products/138354495  138354495  \n",
       "\n",
       "[300 rows x 14 columns]"
      ]
     },
     "execution_count": 7,
     "metadata": {},
     "output_type": "execute_result"
    }
   ],
   "source": [
    "product = pd.read_csv(\"mecab-ko-dic-2.1.1-20180720/Zigzag_products.csv\")\n",
    "product"
   ]
  },
  {
   "cell_type": "code",
   "execution_count": 4,
   "metadata": {},
   "outputs": [
    {
     "name": "stderr",
     "output_type": "stream",
     "text": [
      "/var/folders/4z/77ppy0w97mq12l8j00pcdgr80000gn/T/ipykernel_86131/3083856169.py:1: DtypeWarning: Columns (0,1,2,3,4,5,6,7,8,9,10,12,13,14,16,17,18,19,20) have mixed types. Specify dtype option on import or set low_memory=False.\n",
      "  review = pd.read_csv(\"review_전처리.csv\")\n"
     ]
    },
    {
     "data": {
      "text/html": [
       "<div>\n",
       "<style scoped>\n",
       "    .dataframe tbody tr th:only-of-type {\n",
       "        vertical-align: middle;\n",
       "    }\n",
       "\n",
       "    .dataframe tbody tr th {\n",
       "        vertical-align: top;\n",
       "    }\n",
       "\n",
       "    .dataframe thead th {\n",
       "        text-align: right;\n",
       "    }\n",
       "</style>\n",
       "<table border=\"1\" class=\"dataframe\">\n",
       "  <thead>\n",
       "    <tr style=\"text-align: right;\">\n",
       "      <th></th>\n",
       "      <th>리뷰순서</th>\n",
       "      <th>카테고리</th>\n",
       "      <th>브랜드</th>\n",
       "      <th>상품명</th>\n",
       "      <th>작성자</th>\n",
       "      <th>작성 날짜</th>\n",
       "      <th>옵션</th>\n",
       "      <th>사이즈</th>\n",
       "      <th>퀄리티</th>\n",
       "      <th>색감</th>\n",
       "      <th>...</th>\n",
       "      <th>리뷰 점수</th>\n",
       "      <th>리뷰 코멘트</th>\n",
       "      <th>배송형태</th>\n",
       "      <th>포토리뷰</th>\n",
       "      <th>상품ID</th>\n",
       "      <th>review_count</th>\n",
       "      <th>review_tfidf</th>\n",
       "      <th>keyword</th>\n",
       "      <th>clean_count</th>\n",
       "      <th>clean_tfidf</th>\n",
       "    </tr>\n",
       "  </thead>\n",
       "  <tbody>\n",
       "    <tr>\n",
       "      <th>0</th>\n",
       "      <td>1</td>\n",
       "      <td>의류</td>\n",
       "      <td>퍼빗</td>\n",
       "      <td>퍼빗 [랩티1등🏆/누적5만장🩰/모델전색소장💗/평점4.8극찬💭/기모ver.] 단독제작...</td>\n",
       "      <td>솔링이</td>\n",
       "      <td>25.02.01</td>\n",
       "      <td>-3kg블랙</td>\n",
       "      <td>정사이즈예요</td>\n",
       "      <td>아주 만족해요</td>\n",
       "      <td>화면과 비슷해요</td>\n",
       "      <td>...</td>\n",
       "      <td>5.0</td>\n",
       "      <td>[158/42kg)  이 옷이 유독 슬림해보이는 거 같아요 ㅎㅎ 여리여리한 느낌이 ...</td>\n",
       "      <td>직진</td>\n",
       "      <td>있음</td>\n",
       "      <td>130108350.0</td>\n",
       "      <td>['15842kg' '15842kg 옷이' '같아요' '같아요 여리여리한' '나고'...</td>\n",
       "      <td>['15842kg' '15842kg 옷이' '같아요' '같아요 여리여리한' '나고'...</td>\n",
       "      <td>['어깨', '브이넥이라 어깨', '어깨 라인이', '15842kg', '15842...</td>\n",
       "      <td>15842kg 15842kg 옷이 같아요 같아요 여리여리한 나고 나고 브이넥이라 나...</td>\n",
       "      <td>15842kg 15842kg 옷이 같아요 같아요 여리여리한 나고 나고 브이넥이라 나...</td>\n",
       "    </tr>\n",
       "    <tr>\n",
       "      <th>1</th>\n",
       "      <td>2</td>\n",
       "      <td>의류</td>\n",
       "      <td>퍼빗</td>\n",
       "      <td>퍼빗 [랩티1등🏆/누적5만장🩰/모델전색소장💗/평점4.8극찬💭/기모ver.] 단독제작...</td>\n",
       "      <td>콩콩땅</td>\n",
       "      <td>25.01.30</td>\n",
       "      <td>발렛베이지</td>\n",
       "      <td>정사이즈예요</td>\n",
       "      <td>아주 만족해요</td>\n",
       "      <td>화면과 비슷해요</td>\n",
       "      <td>...</td>\n",
       "      <td>5.0</td>\n",
       "      <td>⭐️ 스펙 : 158cm/50kg , 상체 보다 하체 발달형   ⭐️ 핏, 사이즈 ...</td>\n",
       "      <td>직진</td>\n",
       "      <td>있음</td>\n",
       "      <td>130108350.0</td>\n",
       "      <td>['158cm50kg' '158cm50kg 상체' '감싸줘요' '감싸줘요 재질이' ...</td>\n",
       "      <td>['158cm50kg' '158cm50kg 상체' '감싸줘요' '감싸줘요 재질이' ...</td>\n",
       "      <td>['그자체 어깨가', '어깨가 넓은', '158cm50kg', '158cm50kg ...</td>\n",
       "      <td>158cm50kg 158cm50kg 상체 감싸줘요 감싸줘요 재질이 그자체 그자체 어...</td>\n",
       "      <td>158cm50kg 158cm50kg 상체 감싸줘요 감싸줘요 재질이 그자체 그자체 어...</td>\n",
       "    </tr>\n",
       "    <tr>\n",
       "      <th>2</th>\n",
       "      <td>3</td>\n",
       "      <td>의류</td>\n",
       "      <td>퍼빗</td>\n",
       "      <td>퍼빗 [랩티1등🏆/누적5만장🩰/모델전색소장💗/평점4.8극찬💭/기모ver.] 단독제작...</td>\n",
       "      <td>미소세계</td>\n",
       "      <td>25.01.26</td>\n",
       "      <td>발렛베이지</td>\n",
       "      <td>정사이즈예요</td>\n",
       "      <td>아주 만족해요</td>\n",
       "      <td>화면과 비슷해요</td>\n",
       "      <td>...</td>\n",
       "      <td>5.0</td>\n",
       "      <td>발레코어룩의 정석인 아이템 발견했네여!!!ㅎㅎ 완전 여리여리해보이는 효과가 있어욤ㅠ...</td>\n",
       "      <td>일반</td>\n",
       "      <td>있음</td>\n",
       "      <td>130108350.0</td>\n",
       "      <td>['가격에' '가격에 퀄리티면' '가끔씩' '가끔씩 여리해보이는' '너무' '너무 ...</td>\n",
       "      <td>['가격에' '가격에 퀄리티면' '가끔씩' '가끔씩 여리해보이는' '너무' '너무 ...</td>\n",
       "      <td>['입어봤는데 너무', '옷을 입고더보기지그재그', '처음 입어봤는데', '컬러별로...</td>\n",
       "      <td>가격에 가격에 퀄리티면 가끔씩 가끔씩 여리해보이는 너무 너무 예쁜데요 리뷰입니다 무...</td>\n",
       "      <td>가격에 가격에 퀄리티면 가끔씩 가끔씩 여리해보이는 너무 너무 예쁜데요 리뷰입니다 무...</td>\n",
       "    </tr>\n",
       "    <tr>\n",
       "      <th>3</th>\n",
       "      <td>4</td>\n",
       "      <td>의류</td>\n",
       "      <td>퍼빗</td>\n",
       "      <td>퍼빗 [랩티1등🏆/누적5만장🩰/모델전색소장💗/평점4.8극찬💭/기모ver.] 단독제작...</td>\n",
       "      <td>도귱</td>\n",
       "      <td>25.01.24</td>\n",
       "      <td>발렛베이지</td>\n",
       "      <td>생각보다 커요</td>\n",
       "      <td>보통이에요</td>\n",
       "      <td>화면과 비슷해요</td>\n",
       "      <td>...</td>\n",
       "      <td>5.0</td>\n",
       "      <td>🩷핏 너무 이뻐요!! 예전에 이런 디자인의 티셔츠 구매했다가 저한테 너무 크고 주름...</td>\n",
       "      <td>직진</td>\n",
       "      <td>있음</td>\n",
       "      <td>130108350.0</td>\n",
       "      <td>['같아요더보기지그재그' '같아요더보기지그재그 체험단' '구매했다가' '구매했다가 ...</td>\n",
       "      <td>['같아요더보기지그재그' '같아요더보기지그재그 체험단' '구매했다가' '구매했다가 ...</td>\n",
       "      <td>['구매했다가', '구매했다가 저한테', '티셔츠', '디자인의 티셔츠', '티셔츠...</td>\n",
       "      <td>같아요더보기지그재그 같아요더보기지그재그 체험단 구매했다가 구매했다가 저한테 너무 너...</td>\n",
       "      <td>같아요더보기지그재그 같아요더보기지그재그 체험단 구매했다가 구매했다가 저한테 너무 너...</td>\n",
       "    </tr>\n",
       "    <tr>\n",
       "      <th>4</th>\n",
       "      <td>5</td>\n",
       "      <td>의류</td>\n",
       "      <td>퍼빗</td>\n",
       "      <td>퍼빗 [랩티1등🏆/누적5만장🩰/모델전색소장💗/평점4.8극찬💭/기모ver.] 단독제작...</td>\n",
       "      <td>벚나무</td>\n",
       "      <td>25.01.23</td>\n",
       "      <td>발렛베이지</td>\n",
       "      <td>정사이즈예요</td>\n",
       "      <td>아주 만족해요</td>\n",
       "      <td>화면과 비슷해요</td>\n",
       "      <td>...</td>\n",
       "      <td>5.0</td>\n",
       "      <td>💜169cm/51kg/235/75D  최근 산 상의중에 제일 맘에 듭니다  ✔️일단...</td>\n",
       "      <td>직진</td>\n",
       "      <td>있음</td>\n",
       "      <td>130108350.0</td>\n",
       "      <td>['169cm51kg23575d' '169cm51kg23575d 최근' '가능한데'...</td>\n",
       "      <td>['169cm51kg23575d' '169cm51kg23575d 최근' '가능한데'...</td>\n",
       "      <td>['선택', '워머스타일 좋아해서', '169cm51kg23575d', '워머 선택...</td>\n",
       "      <td>169cm51kg23575d 169cm51kg23575d 최근 가능한데 가능한데 갠...</td>\n",
       "      <td>169cm51kg23575d 169cm51kg23575d 최근 가능한데 가능한데 갠...</td>\n",
       "    </tr>\n",
       "  </tbody>\n",
       "</table>\n",
       "<p>5 rows × 21 columns</p>\n",
       "</div>"
      ],
      "text/plain": [
       "  리뷰순서 카테고리 브랜드                                                상품명   작성자  \\\n",
       "0    1   의류  퍼빗  퍼빗 [랩티1등🏆/누적5만장🩰/모델전색소장💗/평점4.8극찬💭/기모ver.] 단독제작...   솔링이   \n",
       "1    2   의류  퍼빗  퍼빗 [랩티1등🏆/누적5만장🩰/모델전색소장💗/평점4.8극찬💭/기모ver.] 단독제작...   콩콩땅   \n",
       "2    3   의류  퍼빗  퍼빗 [랩티1등🏆/누적5만장🩰/모델전색소장💗/평점4.8극찬💭/기모ver.] 단독제작...  미소세계   \n",
       "3    4   의류  퍼빗  퍼빗 [랩티1등🏆/누적5만장🩰/모델전색소장💗/평점4.8극찬💭/기모ver.] 단독제작...    도귱   \n",
       "4    5   의류  퍼빗  퍼빗 [랩티1등🏆/누적5만장🩰/모델전색소장💗/평점4.8극찬💭/기모ver.] 단독제작...   벚나무   \n",
       "\n",
       "      작성 날짜      옵션      사이즈      퀄리티        색감  ... 리뷰 점수  \\\n",
       "0  25.02.01  -3kg블랙   정사이즈예요  아주 만족해요  화면과 비슷해요  ...   5.0   \n",
       "1  25.01.30   발렛베이지   정사이즈예요  아주 만족해요  화면과 비슷해요  ...   5.0   \n",
       "2  25.01.26   발렛베이지   정사이즈예요  아주 만족해요  화면과 비슷해요  ...   5.0   \n",
       "3  25.01.24   발렛베이지  생각보다 커요    보통이에요  화면과 비슷해요  ...   5.0   \n",
       "4  25.01.23   발렛베이지   정사이즈예요  아주 만족해요  화면과 비슷해요  ...   5.0   \n",
       "\n",
       "                                              리뷰 코멘트 배송형태 포토리뷰         상품ID  \\\n",
       "0  [158/42kg)  이 옷이 유독 슬림해보이는 거 같아요 ㅎㅎ 여리여리한 느낌이 ...   직진   있음  130108350.0   \n",
       "1  ⭐️ 스펙 : 158cm/50kg , 상체 보다 하체 발달형   ⭐️ 핏, 사이즈 ...   직진   있음  130108350.0   \n",
       "2  발레코어룩의 정석인 아이템 발견했네여!!!ㅎㅎ 완전 여리여리해보이는 효과가 있어욤ㅠ...   일반   있음  130108350.0   \n",
       "3  🩷핏 너무 이뻐요!! 예전에 이런 디자인의 티셔츠 구매했다가 저한테 너무 크고 주름...   직진   있음  130108350.0   \n",
       "4  💜169cm/51kg/235/75D  최근 산 상의중에 제일 맘에 듭니다  ✔️일단...   직진   있음  130108350.0   \n",
       "\n",
       "                                        review_count  \\\n",
       "0  ['15842kg' '15842kg 옷이' '같아요' '같아요 여리여리한' '나고'...   \n",
       "1  ['158cm50kg' '158cm50kg 상체' '감싸줘요' '감싸줘요 재질이' ...   \n",
       "2  ['가격에' '가격에 퀄리티면' '가끔씩' '가끔씩 여리해보이는' '너무' '너무 ...   \n",
       "3  ['같아요더보기지그재그' '같아요더보기지그재그 체험단' '구매했다가' '구매했다가 ...   \n",
       "4  ['169cm51kg23575d' '169cm51kg23575d 최근' '가능한데'...   \n",
       "\n",
       "                                        review_tfidf  \\\n",
       "0  ['15842kg' '15842kg 옷이' '같아요' '같아요 여리여리한' '나고'...   \n",
       "1  ['158cm50kg' '158cm50kg 상체' '감싸줘요' '감싸줘요 재질이' ...   \n",
       "2  ['가격에' '가격에 퀄리티면' '가끔씩' '가끔씩 여리해보이는' '너무' '너무 ...   \n",
       "3  ['같아요더보기지그재그' '같아요더보기지그재그 체험단' '구매했다가' '구매했다가 ...   \n",
       "4  ['169cm51kg23575d' '169cm51kg23575d 최근' '가능한데'...   \n",
       "\n",
       "                                             keyword  \\\n",
       "0  ['어깨', '브이넥이라 어깨', '어깨 라인이', '15842kg', '15842...   \n",
       "1  ['그자체 어깨가', '어깨가 넓은', '158cm50kg', '158cm50kg ...   \n",
       "2  ['입어봤는데 너무', '옷을 입고더보기지그재그', '처음 입어봤는데', '컬러별로...   \n",
       "3  ['구매했다가', '구매했다가 저한테', '티셔츠', '디자인의 티셔츠', '티셔츠...   \n",
       "4  ['선택', '워머스타일 좋아해서', '169cm51kg23575d', '워머 선택...   \n",
       "\n",
       "                                         clean_count  \\\n",
       "0  15842kg 15842kg 옷이 같아요 같아요 여리여리한 나고 나고 브이넥이라 나...   \n",
       "1  158cm50kg 158cm50kg 상체 감싸줘요 감싸줘요 재질이 그자체 그자체 어...   \n",
       "2  가격에 가격에 퀄리티면 가끔씩 가끔씩 여리해보이는 너무 너무 예쁜데요 리뷰입니다 무...   \n",
       "3  같아요더보기지그재그 같아요더보기지그재그 체험단 구매했다가 구매했다가 저한테 너무 너...   \n",
       "4  169cm51kg23575d 169cm51kg23575d 최근 가능한데 가능한데 갠...   \n",
       "\n",
       "                                         clean_tfidf  \n",
       "0  15842kg 15842kg 옷이 같아요 같아요 여리여리한 나고 나고 브이넥이라 나...  \n",
       "1  158cm50kg 158cm50kg 상체 감싸줘요 감싸줘요 재질이 그자체 그자체 어...  \n",
       "2  가격에 가격에 퀄리티면 가끔씩 가끔씩 여리해보이는 너무 너무 예쁜데요 리뷰입니다 무...  \n",
       "3  같아요더보기지그재그 같아요더보기지그재그 체험단 구매했다가 구매했다가 저한테 너무 너...  \n",
       "4  169cm51kg23575d 169cm51kg23575d 최근 가능한데 가능한데 갠...  \n",
       "\n",
       "[5 rows x 21 columns]"
      ]
     },
     "execution_count": 4,
     "metadata": {},
     "output_type": "execute_result"
    }
   ],
   "source": [
    "review = pd.read_csv(\"review_전처리.csv\")\n",
    "review.head()"
   ]
  },
  {
   "cell_type": "markdown",
   "metadata": {},
   "source": [
    "#### 상품 : product130108350"
   ]
  },
  {
   "cell_type": "code",
   "execution_count": 5,
   "metadata": {},
   "outputs": [
    {
     "data": {
      "text/html": [
       "<div>\n",
       "<style scoped>\n",
       "    .dataframe tbody tr th:only-of-type {\n",
       "        vertical-align: middle;\n",
       "    }\n",
       "\n",
       "    .dataframe tbody tr th {\n",
       "        vertical-align: top;\n",
       "    }\n",
       "\n",
       "    .dataframe thead th {\n",
       "        text-align: right;\n",
       "    }\n",
       "</style>\n",
       "<table border=\"1\" class=\"dataframe\">\n",
       "  <thead>\n",
       "    <tr style=\"text-align: right;\">\n",
       "      <th></th>\n",
       "      <th>상품명</th>\n",
       "      <th>리뷰 코멘트</th>\n",
       "      <th>clean_count</th>\n",
       "      <th>clean_tfidf</th>\n",
       "    </tr>\n",
       "  </thead>\n",
       "  <tbody>\n",
       "    <tr>\n",
       "      <th>0</th>\n",
       "      <td>퍼빗 [랩티1등🏆/누적5만장🩰/모델전색소장💗/평점4.8극찬💭/기모ver.] 단독제작...</td>\n",
       "      <td>[158/42kg)  이 옷이 유독 슬림해보이는 거 같아요 ㅎㅎ 여리여리한 느낌이 ...</td>\n",
       "      <td>15842kg 15842kg 옷이 같아요 같아요 여리여리한 나고 나고 브이넥이라 나...</td>\n",
       "      <td>15842kg 15842kg 옷이 같아요 같아요 여리여리한 나고 나고 브이넥이라 나...</td>\n",
       "    </tr>\n",
       "  </tbody>\n",
       "</table>\n",
       "</div>"
      ],
      "text/plain": [
       "                                                 상품명  \\\n",
       "0  퍼빗 [랩티1등🏆/누적5만장🩰/모델전색소장💗/평점4.8극찬💭/기모ver.] 단독제작...   \n",
       "\n",
       "                                              리뷰 코멘트  \\\n",
       "0  [158/42kg)  이 옷이 유독 슬림해보이는 거 같아요 ㅎㅎ 여리여리한 느낌이 ...   \n",
       "\n",
       "                                         clean_count  \\\n",
       "0  15842kg 15842kg 옷이 같아요 같아요 여리여리한 나고 나고 브이넥이라 나...   \n",
       "\n",
       "                                         clean_tfidf  \n",
       "0  15842kg 15842kg 옷이 같아요 같아요 여리여리한 나고 나고 브이넥이라 나...  "
      ]
     },
     "execution_count": 5,
     "metadata": {},
     "output_type": "execute_result"
    }
   ],
   "source": [
    "product130108350 = review[review.상품ID == 130108350]\n",
    "product130108350 = product130108350[['상품명', '리뷰 코멘트', 'clean_count', 'clean_tfidf']]\n",
    "product130108350.head(1)"
   ]
  },
  {
   "cell_type": "code",
   "execution_count": 75,
   "metadata": {},
   "outputs": [
    {
     "data": {
      "text/plain": [
       "'퍼빗 [랩티1등🏆/누적5만장🩰/모델전색소장💗/평점4.8극찬💭/기모ver.] 단독제작) 로잔나 여리핏 랩 실루엣 워머탑 티 - 10color'"
      ]
     },
     "execution_count": 75,
     "metadata": {},
     "output_type": "execute_result"
    }
   ],
   "source": [
    "product130108350['상품명'][0]"
   ]
  },
  {
   "cell_type": "markdown",
   "metadata": {},
   "source": [
    "📌 필요 함수 정의"
   ]
  },
  {
   "cell_type": "code",
   "execution_count": 73,
   "metadata": {},
   "outputs": [],
   "source": [
    "# Headline 형태소 분석 (명사, 동사, 형용사)\n",
    "from konlpy.tag import Okt\n",
    "def topKeywords(okt,text):\n",
    "    noun = []\n",
    "    adj = []\n",
    "    for word, pos in okt.pos(text, stem=True):\n",
    "        if pos == 'Noun':\n",
    "            noun.append(word)\n",
    "        elif pos == 'Adjective':\n",
    "            adj.append(word)           \n",
    "    return noun, adj"
   ]
  },
  {
   "cell_type": "code",
   "execution_count": 52,
   "metadata": {},
   "outputs": [],
   "source": [
    "def 빈도분석(df, 품사):\n",
    "    # adj 열 추출 및 단어 분리\n",
    "    adj_list = df[품사].str.split().explode().tolist()\n",
    "\n",
    "    # 빈도 계산\n",
    "    word_counts = Counter(adj_list)\n",
    "\n",
    "    # 상위 10개 형용사 출력\n",
    "    top_adjectives = word_counts.most_common(10)\n",
    "    print(\"가장 많이 언급된 품사 (빈도순):\")\n",
    "    for word, count in top_adjectives:\n",
    "        print(f\"{word}: {count}\")"
   ]
  },
  {
   "cell_type": "code",
   "execution_count": 53,
   "metadata": {},
   "outputs": [],
   "source": [
    "def PMI(df, 품사):\n",
    "    # 단어와 문서별 출현 행렬 생성\n",
    "    adj_words = df[품사].str.split().explode().unique()\n",
    "    doc_word_counts = {word: [] for word in adj_words}\n",
    "    for idx, row in df.iterrows():\n",
    "        words = set(row[품사].split())\n",
    "        for word in adj_words:\n",
    "            doc_word_counts[word].append(1 if word in words else 0)\n",
    "\n",
    "    # PMI 계산\n",
    "    total_docs = len(df)\n",
    "    word_freq = Counter(df[품사].str.split().explode())\n",
    "    pmi_scores = {}\n",
    "    for word in adj_words:\n",
    "        p_w = word_freq[word] / sum(word_freq.values())  # 단어 확률\n",
    "        for doc_idx in range(total_docs):\n",
    "            p_d = 1 / total_docs  # 문서 확률 (균등 가정)\n",
    "            p_w_d = doc_word_counts[word][doc_idx]  # 단어-문서 동시 출현\n",
    "            if p_w_d > 0:\n",
    "                pmi = np.log(p_w_d / (p_w * p_d))\n",
    "                pmi_scores[(word, doc_idx)] = pmi\n",
    "\n",
    "    # 상위 PMI 단어 추출\n",
    "    top_pmi = sorted(pmi_scores.items(), key=lambda x: x[1], reverse=True)[:10]\n",
    "    print(\"PMI 상위 품사:\")\n",
    "    for (word, doc_idx), score in top_pmi:\n",
    "        print(f\"{word} (문서 {doc_idx}): {score}\")"
   ]
  },
  {
   "cell_type": "code",
   "execution_count": 54,
   "metadata": {},
   "outputs": [],
   "source": [
    "def WordEmbedding(df, 품사):\n",
    "    # 문장 리스트 생성\n",
    "    sentences = df[품사].str.split().tolist()\n",
    "\n",
    "    # Word2Vec 모델 학습\n",
    "    model = Word2Vec(sentences, vector_size=100, window=5, min_count=1, workers=4)\n",
    "\n",
    "    # 상위 빈도 단어\n",
    "    word_counts = Counter(df[품사].str.split().explode())\n",
    "    top_words = [word for word, count in word_counts.most_common(5)]\n",
    "\n",
    "    print(\"상위단어\")\n",
    "    print(top_words)\n",
    "    print()\n",
    "\n",
    "    # 유사 단어 추출\n",
    "    print(\"상위 단어와 유사한 품사:\")\n",
    "    for word in top_words:\n",
    "        similar = model.wv.most_similar(word, topn=3)\n",
    "        print(f\"{word}: {similar}\")"
   ]
  },
  {
   "cell_type": "markdown",
   "metadata": {},
   "source": [
    "##### 1. 상품명"
   ]
  },
  {
   "cell_type": "code",
   "execution_count": null,
   "metadata": {},
   "outputs": [
    {
     "name": "stdout",
     "output_type": "stream",
     "text": [
      "명사 top : ['평점', '퍼빗', '제작', '워머탑', '여리핏', '실루엣', '색소', '모델', '로잔', '랩티', '단독', '누적', '기모', '극찬']\n",
      "\n",
      "형용사 top : []\n"
     ]
    }
   ],
   "source": [
    "okt = Okt()\n",
    "df = pd.DataFrame(None, columns=['noun','adj','all'])\n",
    "df.loc[0] = [1,2,3]\n",
    "for idx,text in enumerate(product130108350['상품명']):\n",
    "    n,a = topKeywords(okt,text)\n",
    "    df.loc[idx] = [' '.join(n), ' '.join(a), ' '.join(n)+' '+' '+' '.join(a)]\n",
    "\n",
    "tfidf = TfidfVectorizer()\n",
    "res = tfidf.fit_transform(df['all']).toarray()\n",
    "\n",
    "# TF-IDF 기준 상위 n_top 개수 키워드 추출\n",
    "n_top = 300\n",
    "importance = np.argsort(np.asarray(res.sum(axis=0)).ravel())[::-1]\n",
    "tfidf_feature_names = np.array(tfidf.get_feature_names_out())\n",
    "# print(tfidf_feature_names[importance[:n_top]])\n",
    "\n",
    "\n",
    "# TF-IDF 기준 상위 top 개수만큼 품사별 키워드 추출 (명사, 동사, 형용사)\n",
    "noun,adj = topKeywords(okt,' '.join(tfidf_feature_names[importance[:n_top]]))\n",
    "\n",
    "noun_top = 100\n",
    "print(f'명사 top : {noun[:noun_top]}')"
   ]
  },
  {
   "cell_type": "markdown",
   "metadata": {},
   "source": [
    "##### 2. 리뷰 코멘트"
   ]
  },
  {
   "cell_type": "code",
   "execution_count": 63,
   "metadata": {},
   "outputs": [
    {
     "name": "stdout",
     "output_type": "stream",
     "text": [
      "명사 top : ['리다', '색상', '색감', '구매', '느낌', '진짜', '보기', '핑크', '생각', '부분', '베이지', '컬러', '다른', '별로', '어깨', '블랙', '기모', '추천', '보이', '라인', '사진', '색도', '허리', '조금', '셔링', '여성', '소재', '디자인', '여리해', '팔뚝', '가슴', '사고', '재질', '버전', '색깔', '마음', '정말', '소매', '그냥', '살짝', '데이트', '쿨톤', '마감', '고민', '정도', '발렛베', '아이보리', '완전', '퍼빗', '가을', '배송', '체형', '약간', '겨울', '복숭아', '워머', '퀄리티', '실밥', '봄웜', '아주', '편이', '주문', '얼굴', '자체', '하나', '라이트', '부각', '속옷', '가격', '뮤트', '몸매', '길이', '리뷰', '부담', '발렛', '브라운', '웜톤', '숄더', '살구', '살이', '스타일', '오프', '다만', '상체', '마르다', '상품', '후기', '처음', '티셔츠', '걱정', '사이즈', '찰떡', '화면', '주름', '만족', '지그재그', '로잔', '오프', '숄더', '핑크색']\n",
      "\n",
      "형용사 top : ['예쁘다', '좋다', '같다', '있다', '이쁘다', '아니다', '얇다', '괜찮다', '만족하다', '많다']\n"
     ]
    }
   ],
   "source": [
    "okt = Okt()\n",
    "df = pd.DataFrame(None, columns=['noun','adj','all'])\n",
    "df.loc[0] = [1,2,3]\n",
    "for idx,text in enumerate(product130108350['리뷰 코멘트']):\n",
    "    n,a = topKeywords(okt,text)\n",
    "    df.loc[idx] = [' '.join(n), ' '.join(a), ' '.join(n)+' '+' '+' '.join(a)]\n",
    "\n",
    "tfidf = TfidfVectorizer()\n",
    "res = tfidf.fit_transform(df['all']).toarray()\n",
    "\n",
    "# TF-IDF 기준 상위 n_top 개수 키워드 추출\n",
    "n_top = 300\n",
    "importance = np.argsort(np.asarray(res.sum(axis=0)).ravel())[::-1]\n",
    "tfidf_feature_names = np.array(tfidf.get_feature_names_out())\n",
    "# print(tfidf_feature_names[importance[:n_top]])\n",
    "\n",
    "\n",
    "# TF-IDF 기준 상위 top 개수만큼 품사별 키워드 추출 (명사, 동사, 형용사)\n",
    "noun,adj = topKeywords(okt,' '.join(tfidf_feature_names[importance[:n_top]]))\n",
    "\n",
    "noun_top = 100\n",
    "print(f'명사 top : {noun[:noun_top]}')\n",
    "print()\n",
    "adj_top = 10\n",
    "print(f'형용사 top : {adj[:adj_top]}')"
   ]
  },
  {
   "cell_type": "markdown",
   "metadata": {},
   "source": [
    "2-1. 형용사 사용"
   ]
  },
  {
   "cell_type": "code",
   "execution_count": 64,
   "metadata": {},
   "outputs": [
    {
     "name": "stdout",
     "output_type": "stream",
     "text": [
      "가장 많이 언급된 품사 (빈도순):\n",
      "예쁘다: 270\n",
      "같다: 243\n",
      "좋다: 233\n",
      "있다: 221\n",
      "여리다: 184\n",
      "이다: 142\n",
      "이쁘다: 132\n",
      "아니다: 56\n",
      "없다: 47\n",
      "얇다: 47\n"
     ]
    }
   ],
   "source": [
    "빈도분석(df, 'adj')"
   ]
  },
  {
   "cell_type": "code",
   "execution_count": 65,
   "metadata": {},
   "outputs": [
    {
     "name": "stdout",
     "output_type": "stream",
     "text": [
      "PMI 상위 품사:\n",
      "알맞다 (문서 3): 14.03705282791151\n",
      "부끄럽다 (문서 22): 14.03705282791151\n",
      "가녀리다 (문서 47): 14.03705282791151\n",
      "멀쩡하다 (문서 49): 14.03705282791151\n",
      "낮다 (문서 57): 14.03705282791151\n",
      "가득하다 (문서 64): 14.03705282791151\n",
      "흡사하다 (문서 76): 14.03705282791151\n",
      "실패하다 (문서 77): 14.03705282791151\n",
      "좁다 (문서 93): 14.03705282791151\n",
      "신나다 (문서 95): 14.03705282791151\n"
     ]
    }
   ],
   "source": [
    "PMI(df, 'adj')"
   ]
  },
  {
   "cell_type": "code",
   "execution_count": 66,
   "metadata": {},
   "outputs": [
    {
     "name": "stdout",
     "output_type": "stream",
     "text": [
      "상위단어\n",
      "['예쁘다', '같다', '좋다', '있다', '여리다']\n",
      "\n",
      "상위 단어와 유사한 품사:\n",
      "예쁘다: [('좋다', 0.8136513233184814), ('같다', 0.7951556444168091), ('있다', 0.7873016595840454)]\n",
      "같다: [('있다', 0.8036925196647644), ('좋다', 0.7963465452194214), ('예쁘다', 0.7951557040214539)]\n",
      "좋다: [('여리다', 0.813860297203064), ('예쁘다', 0.8136512637138367), ('있다', 0.8094833493232727)]\n",
      "있다: [('좋다', 0.8094834089279175), ('같다', 0.8036925792694092), ('예쁘다', 0.7873017191886902)]\n",
      "여리다: [('좋다', 0.8138604760169983), ('예쁘다', 0.7706547379493713), ('같다', 0.7565170526504517)]\n"
     ]
    }
   ],
   "source": [
    "WordEmbedding(df, 'adj')"
   ]
  },
  {
   "cell_type": "markdown",
   "metadata": {},
   "source": [
    "2-2. 명사 사용"
   ]
  },
  {
   "cell_type": "code",
   "execution_count": 67,
   "metadata": {},
   "outputs": [
    {
     "name": "stdout",
     "output_type": "stream",
     "text": [
      "가장 많이 언급된 품사 (빈도순):\n",
      "더: 242\n",
      "옷: 143\n",
      "핏: 135\n",
      "것: 128\n",
      "보기: 124\n",
      "색: 122\n",
      "색상: 110\n",
      "구매: 97\n",
      "색감: 91\n",
      "느낌: 87\n"
     ]
    }
   ],
   "source": [
    "빈도분석(df, 'noun')"
   ]
  },
  {
   "cell_type": "code",
   "execution_count": 68,
   "metadata": {},
   "outputs": [
    {
     "name": "stdout",
     "output_type": "stream",
     "text": [
      "PMI 상위 품사:\n",
      "엄지손 (문서 0): 15.273544016239141\n",
      "마법 (문서 1): 15.273544016239141\n",
      "스판끼 (문서 1): 15.273544016239141\n",
      "정석 (문서 2): 15.273544016239141\n",
      "있어욤 (문서 2): 15.273544016239141\n",
      "가끔 (문서 2): 15.273544016239141\n",
      "한적 (문서 3): 15.273544016239141\n",
      "갠 (문서 4): 15.273544016239141\n",
      "꼽았어 (문서 4): 15.273544016239141\n",
      "당일 (문서 5): 15.273544016239141\n"
     ]
    }
   ],
   "source": [
    "PMI(df, 'noun')"
   ]
  },
  {
   "cell_type": "code",
   "execution_count": 69,
   "metadata": {},
   "outputs": [
    {
     "name": "stdout",
     "output_type": "stream",
     "text": [
      "상위단어\n",
      "['더', '옷', '핏', '것', '보기']\n",
      "\n",
      "상위 단어와 유사한 품사:\n",
      "더: [('느낌', 0.9941322803497314), ('옷', 0.9937158823013306), ('좀', 0.9936140179634094)]\n",
      "옷: [('좀', 0.993878185749054), ('더', 0.9937160611152649), ('부분', 0.9932937622070312)]\n",
      "핏: [('좀', 0.993990421295166), ('색상', 0.9932789206504822), ('옷', 0.9931802153587341)]\n",
      "것: [('옷', 0.9931552410125732), ('좀', 0.9929196238517761), ('색', 0.992648184299469)]\n",
      "보기: [('베이지', 0.9848901629447937), ('핏', 0.9843122363090515), ('핑크', 0.9834980964660645)]\n"
     ]
    }
   ],
   "source": [
    "WordEmbedding(df, 'noun')"
   ]
  },
  {
   "cell_type": "markdown",
   "metadata": {},
   "source": [
    "2-3. all (형용사&명사)"
   ]
  },
  {
   "cell_type": "code",
   "execution_count": 70,
   "metadata": {},
   "outputs": [
    {
     "name": "stdout",
     "output_type": "stream",
     "text": [
      "가장 많이 언급된 품사 (빈도순):\n",
      "예쁘다: 270\n",
      "같다: 243\n",
      "더: 242\n",
      "좋다: 233\n",
      "있다: 221\n",
      "여리다: 184\n",
      "옷: 143\n",
      "이다: 142\n",
      "핏: 135\n",
      "이쁘다: 132\n"
     ]
    }
   ],
   "source": [
    "빈도분석(df, 'all')"
   ]
  },
  {
   "cell_type": "code",
   "execution_count": 71,
   "metadata": {},
   "outputs": [
    {
     "name": "stdout",
     "output_type": "stream",
     "text": [
      "PMI 상위 품사:\n",
      "엄지손 (문서 0): 15.528407178766605\n",
      "마법 (문서 1): 15.528407178766605\n",
      "스판끼 (문서 1): 15.528407178766605\n",
      "정석 (문서 2): 15.528407178766605\n",
      "있어욤 (문서 2): 15.528407178766605\n",
      "가끔 (문서 2): 15.528407178766605\n",
      "한적 (문서 3): 15.528407178766605\n",
      "알맞다 (문서 3): 15.528407178766605\n",
      "갠 (문서 4): 15.528407178766605\n",
      "꼽았어 (문서 4): 15.528407178766605\n"
     ]
    }
   ],
   "source": [
    "PMI(df, 'all')"
   ]
  },
  {
   "cell_type": "code",
   "execution_count": 72,
   "metadata": {},
   "outputs": [
    {
     "name": "stdout",
     "output_type": "stream",
     "text": [
      "상위단어\n",
      "['예쁘다', '같다', '더', '좋다', '있다']\n",
      "\n",
      "상위 단어와 유사한 품사:\n",
      "예쁘다: [('것', 0.9990606904029846), ('옷', 0.9990214705467224), ('느낌', 0.9990105032920837)]\n",
      "같다: [('부분', 0.9989197254180908), ('더', 0.9988963007926941), ('구매', 0.9988637566566467)]\n",
      "더: [('옷', 0.9995096921920776), ('핏', 0.9994602799415588), ('것', 0.9993990659713745)]\n",
      "좋다: [('더', 0.9988873600959778), ('옷', 0.9988797903060913), ('것', 0.9988343119621277)]\n",
      "있다: [('더', 0.999269962310791), ('색상', 0.9991440176963806), ('옷', 0.9990860223770142)]\n"
     ]
    }
   ],
   "source": [
    "WordEmbedding(df, 'all')"
   ]
  },
  {
   "cell_type": "markdown",
   "metadata": {},
   "source": [
    "##### 3. clean_count"
   ]
  },
  {
   "cell_type": "code",
   "execution_count": 76,
   "metadata": {},
   "outputs": [
    {
     "name": "stdout",
     "output_type": "stream",
     "text": [
      "명사 top : ['리다', '색상', '구매', '느낌', '색감', '진짜', '핑크', '부분', '생각', '베이지', '컬러', '다른', '별로', '어깨', '블랙', '보기', '기모', '보이', '라인', '허리', '색도', '조금', '소재', '여성', '셔링', '디자인', '팔뚝', '추천', '사진', '여리해', '재질', '가슴', '사고', '버전', '마음', '색깔', '그냥', '소매', '정말', '마감', '데이트', '살짝', '고민', '정도', '아이보리', '쿨톤', '완전', '가을', '퍼빗', '겨울', '약간', '워머', '체형', '배송', '아주', '퀄리티', '발렛베', '편이', '복숭아', '실밥', '주문', '봄웜', '얼굴', '부각', '하나', '속옷', '자체', '길이', '몸매', '가격', '라이트', '숄더', '발렛', '부담', '뮤트', '살이', '스타일', '브라운', '다만', '오프', '살구', '웜톤', '상품', '마르다', '상체', '티셔츠', '걱정', '처음', '후기', '사이즈', '찰떡', '리뷰', '주름', '오프', '숄더', '지그재그', '브라', '화면', '정리', '핑크색']\n",
      "\n",
      "형용사 top : ['예쁘다', '좋다', '같다', '있다', '이쁘다', '아니다', '얇다', '괜찮다', '없다', '많다']\n"
     ]
    }
   ],
   "source": [
    "okt = Okt()\n",
    "df = pd.DataFrame(None, columns=['noun','adj','all'])\n",
    "df.loc[0] = [1,2,3]\n",
    "for idx,text in enumerate(product130108350['clean_count']):\n",
    "    n,a = topKeywords(okt,text)\n",
    "    df.loc[idx] = [' '.join(n), ' '.join(a), ' '.join(n)+' '+' '+' '.join(a)]\n",
    "\n",
    "tfidf = TfidfVectorizer()\n",
    "res = tfidf.fit_transform(df['all']).toarray()\n",
    "\n",
    "# TF-IDF 기준 상위 n_top 개수 키워드 추출\n",
    "n_top = 300\n",
    "importance = np.argsort(np.asarray(res.sum(axis=0)).ravel())[::-1]\n",
    "tfidf_feature_names = np.array(tfidf.get_feature_names_out())\n",
    "# print(tfidf_feature_names[importance[:n_top]])\n",
    "\n",
    "\n",
    "# TF-IDF 기준 상위 top 개수만큼 품사별 키워드 추출 (명사, 동사, 형용사)\n",
    "noun,adj = topKeywords(okt,' '.join(tfidf_feature_names[importance[:n_top]]))\n",
    "\n",
    "noun_top = 100\n",
    "print(f'명사 top : {noun[:noun_top]}')\n",
    "print()\n",
    "adj_top = 10\n",
    "print(f'형용사 top : {adj[:adj_top]}')"
   ]
  },
  {
   "cell_type": "markdown",
   "metadata": {},
   "source": [
    "3-1. 형용사 사용"
   ]
  },
  {
   "cell_type": "code",
   "execution_count": 77,
   "metadata": {},
   "outputs": [
    {
     "name": "stdout",
     "output_type": "stream",
     "text": [
      "가장 많이 언급된 품사 (빈도순):\n",
      "예쁘다: 775\n",
      "같다: 670\n",
      "좋다: 662\n",
      "있다: 639\n",
      "여리다: 523\n",
      "이다: 379\n",
      "이쁘다: 370\n",
      "아니다: 164\n",
      "없다: 139\n",
      "얇다: 139\n"
     ]
    }
   ],
   "source": [
    "빈도분석(df, 'adj')"
   ]
  },
  {
   "cell_type": "code",
   "execution_count": 78,
   "metadata": {},
   "outputs": [
    {
     "name": "stdout",
     "output_type": "stream",
     "text": [
      "PMI 상위 품사:\n",
      "멀다 (문서 174): 14.395908885082225\n",
      "무덥다 (문서 186): 14.395908885082225\n",
      "용하다 (문서 244): 14.395908885082225\n",
      "알맞다 (문서 3): 13.990443776974061\n",
      "부끄럽다 (문서 22): 13.990443776974061\n",
      "가녀리다 (문서 47): 13.990443776974061\n",
      "멀쩡하다 (문서 49): 13.990443776974061\n",
      "낮다 (문서 57): 13.990443776974061\n",
      "가득하다 (문서 64): 13.990443776974061\n",
      "흡사하다 (문서 76): 13.990443776974061\n"
     ]
    }
   ],
   "source": [
    "PMI(df, 'adj')"
   ]
  },
  {
   "cell_type": "code",
   "execution_count": 79,
   "metadata": {},
   "outputs": [
    {
     "name": "stdout",
     "output_type": "stream",
     "text": [
      "상위단어\n",
      "['예쁘다', '같다', '좋다', '있다', '여리다']\n",
      "\n",
      "상위 단어와 유사한 품사:\n",
      "예쁘다: [('깔끔하다', 0.9985467791557312), ('고급스럽다', 0.9985451102256775), ('높다', 0.99852454662323)]\n",
      "같다: [('은은하다', 0.9988837242126465), ('그렇다', 0.9987420439720154), ('있다', 0.9986683130264282)]\n",
      "좋다: [('이쁘다', 0.9988527894020081), ('은은하다', 0.9987040162086487), ('이상하다', 0.9986475706100464)]\n",
      "있다: [('그렇다', 0.998798668384552), ('이다', 0.9987853169441223), ('이쁘다', 0.9987225532531738)]\n",
      "여리다: [('좋다', 0.9982301592826843), ('차분하다', 0.997882604598999), ('비슷하다', 0.9978200793266296)]\n"
     ]
    }
   ],
   "source": [
    "WordEmbedding(df, 'adj')"
   ]
  },
  {
   "cell_type": "markdown",
   "metadata": {},
   "source": [
    "3-2. 명사 사용"
   ]
  },
  {
   "cell_type": "code",
   "execution_count": 80,
   "metadata": {},
   "outputs": [
    {
     "name": "stdout",
     "output_type": "stream",
     "text": [
      "가장 많이 언급된 품사 (빈도순):\n",
      "색상: 313\n",
      "색: 293\n",
      "핏: 290\n",
      "옷: 283\n",
      "구매: 283\n",
      "보기: 264\n",
      "색감: 253\n",
      "느낌: 252\n",
      "핑크: 220\n",
      "진짜: 216\n"
     ]
    }
   ],
   "source": [
    "빈도분석(df, 'noun')"
   ]
  },
  {
   "cell_type": "code",
   "execution_count": 81,
   "metadata": {},
   "outputs": [
    {
     "name": "stdout",
     "output_type": "stream",
     "text": [
      "PMI 상위 품사:\n",
      "색더 (문서 15): 15.523480726462621\n",
      "펜더 (문서 22): 15.523480726462621\n",
      "꺄 (문서 23): 15.523480726462621\n",
      "지인 (문서 27): 15.523480726462621\n",
      "퍼킷 (문서 33): 15.523480726462621\n",
      "밥 (문서 36): 15.523480726462621\n",
      "신체 (문서 42): 15.523480726462621\n",
      "잘잘 (문서 66): 15.523480726462621\n",
      "줌 (문서 66): 15.523480726462621\n",
      "퍼펙트 (문서 71): 15.523480726462621\n"
     ]
    }
   ],
   "source": [
    "PMI(df, 'noun')"
   ]
  },
  {
   "cell_type": "code",
   "execution_count": 82,
   "metadata": {},
   "outputs": [
    {
     "name": "stdout",
     "output_type": "stream",
     "text": [
      "상위단어\n",
      "['색상', '색', '핏', '옷', '구매']\n",
      "\n",
      "상위 단어와 유사한 품사:\n",
      "색상: [('티', 0.9995359778404236), ('용', 0.9994273781776428), ('자주', 0.999410092830658)]\n",
      "색: [('요', 0.99950110912323), ('맘', 0.999376118183136), ('색상', 0.9993494749069214)]\n",
      "핏: [('진짜', 0.999527633190155), ('제', 0.999494731426239), ('편', 0.9994758367538452)]\n",
      "옷: [('몸', 0.9994102716445923), ('완전', 0.9993626475334167), ('도', 0.9993539452552795)]\n",
      "구매: [('것', 0.9994460344314575), ('사진', 0.9994036555290222), ('요', 0.9994017481803894)]\n"
     ]
    }
   ],
   "source": [
    "WordEmbedding(df, 'noun')"
   ]
  },
  {
   "cell_type": "markdown",
   "metadata": {},
   "source": [
    "3-3. all"
   ]
  },
  {
   "cell_type": "code",
   "execution_count": 83,
   "metadata": {},
   "outputs": [
    {
     "name": "stdout",
     "output_type": "stream",
     "text": [
      "가장 많이 언급된 품사 (빈도순):\n",
      "예쁘다: 775\n",
      "같다: 670\n",
      "좋다: 662\n",
      "있다: 639\n",
      "여리다: 523\n",
      "이다: 379\n",
      "이쁘다: 370\n",
      "색상: 313\n",
      "색: 293\n",
      "핏: 290\n"
     ]
    }
   ],
   "source": [
    "빈도분석(df, 'all')"
   ]
  },
  {
   "cell_type": "code",
   "execution_count": 84,
   "metadata": {},
   "outputs": [
    {
     "name": "stdout",
     "output_type": "stream",
     "text": [
      "PMI 상위 품사:\n",
      "색더 (문서 15): 15.803966928491555\n",
      "펜더 (문서 22): 15.803966928491555\n",
      "꺄 (문서 23): 15.803966928491555\n",
      "지인 (문서 27): 15.803966928491555\n",
      "퍼킷 (문서 33): 15.803966928491555\n",
      "밥 (문서 36): 15.803966928491555\n",
      "신체 (문서 42): 15.803966928491555\n",
      "잘잘 (문서 66): 15.803966928491555\n",
      "줌 (문서 66): 15.803966928491555\n",
      "퍼펙트 (문서 71): 15.803966928491555\n"
     ]
    }
   ],
   "source": [
    "PMI(df, 'all')"
   ]
  },
  {
   "cell_type": "code",
   "execution_count": 85,
   "metadata": {},
   "outputs": [
    {
     "name": "stdout",
     "output_type": "stream",
     "text": [
      "상위단어\n",
      "['예쁘다', '같다', '좋다', '있다', '여리다']\n",
      "\n",
      "상위 단어와 유사한 품사:\n",
      "예쁘다: [('같다', 0.9975155591964722), ('좋다', 0.9968034029006958), ('있다', 0.9957370162010193)]\n",
      "같다: [('이다', 0.9988465309143066), ('좋다', 0.9983950257301331), ('있다', 0.9977676868438721)]\n",
      "좋다: [('있다', 0.998894989490509), ('같다', 0.9983950257301331), ('이다', 0.9979372024536133)]\n",
      "있다: [('좋다', 0.9988949298858643), ('같다', 0.9977676868438721), ('이다', 0.9976714849472046)]\n",
      "여리다: [('이다', 0.9946117997169495), ('예쁘다', 0.9943315386772156), ('좋다', 0.9933524131774902)]\n"
     ]
    }
   ],
   "source": [
    "WordEmbedding(df, 'all')"
   ]
  },
  {
   "cell_type": "markdown",
   "metadata": {},
   "source": [
    "##### 4. clean_tfidf"
   ]
  },
  {
   "cell_type": "code",
   "execution_count": 86,
   "metadata": {},
   "outputs": [
    {
     "name": "stdout",
     "output_type": "stream",
     "text": [
      "명사 top : ['리다', '색상', '구매', '느낌', '색감', '진짜', '핑크', '부분', '생각', '베이지', '컬러', '다른', '별로', '어깨', '블랙', '보기', '기모', '보이', '라인', '허리', '색도', '조금', '소재', '여성', '셔링', '디자인', '팔뚝', '추천', '사진', '여리해', '재질', '가슴', '사고', '버전', '마음', '색깔', '그냥', '소매', '정말', '마감', '데이트', '살짝', '고민', '정도', '아이보리', '쿨톤', '완전', '가을', '퍼빗', '겨울', '약간', '워머', '체형', '배송', '아주', '퀄리티', '발렛베', '편이', '복숭아', '실밥', '주문', '봄웜', '얼굴', '부각', '하나', '속옷', '자체', '길이', '몸매', '가격', '라이트', '숄더', '발렛', '부담', '뮤트', '살이', '스타일', '브라운', '다만', '오프', '살구', '웜톤', '상품', '마르다', '상체', '티셔츠', '걱정', '처음', '후기', '사이즈', '찰떡', '리뷰', '주름', '오프', '숄더', '지그재그', '브라', '화면', '정리', '핑크색']\n",
      "\n",
      "형용사 top : ['예쁘다', '좋다', '같다', '있다', '이쁘다', '아니다', '얇다', '괜찮다', '없다', '많다']\n"
     ]
    }
   ],
   "source": [
    "okt = Okt()\n",
    "df = pd.DataFrame(None, columns=['noun','adj','all'])\n",
    "df.loc[0] = [1,2,3]\n",
    "for idx,text in enumerate(product130108350['clean_tfidf']):\n",
    "    n,a = topKeywords(okt,text)\n",
    "    df.loc[idx] = [' '.join(n), ' '.join(a), ' '.join(n)+' '+' '+' '.join(a)]\n",
    "\n",
    "tfidf = TfidfVectorizer()\n",
    "res = tfidf.fit_transform(df['all']).toarray()\n",
    "\n",
    "# TF-IDF 기준 상위 n_top 개수 키워드 추출\n",
    "n_top = 300\n",
    "importance = np.argsort(np.asarray(res.sum(axis=0)).ravel())[::-1]\n",
    "tfidf_feature_names = np.array(tfidf.get_feature_names_out())\n",
    "# print(tfidf_feature_names[importance[:n_top]])\n",
    "\n",
    "\n",
    "# TF-IDF 기준 상위 top 개수만큼 품사별 키워드 추출 (명사, 동사, 형용사)\n",
    "noun,adj = topKeywords(okt,' '.join(tfidf_feature_names[importance[:n_top]]))\n",
    "\n",
    "noun_top = 100\n",
    "print(f'명사 top : {noun[:noun_top]}')\n",
    "print()\n",
    "adj_top = 10\n",
    "print(f'형용사 top : {adj[:adj_top]}')"
   ]
  },
  {
   "cell_type": "markdown",
   "metadata": {},
   "source": [
    "4-1. 형용사"
   ]
  },
  {
   "cell_type": "code",
   "execution_count": 87,
   "metadata": {},
   "outputs": [
    {
     "name": "stdout",
     "output_type": "stream",
     "text": [
      "가장 많이 언급된 품사 (빈도순):\n",
      "예쁘다: 775\n",
      "같다: 670\n",
      "좋다: 662\n",
      "있다: 639\n",
      "여리다: 523\n",
      "이다: 379\n",
      "이쁘다: 370\n",
      "아니다: 164\n",
      "없다: 139\n",
      "얇다: 139\n"
     ]
    }
   ],
   "source": [
    "빈도분석(df, 'adj')"
   ]
  },
  {
   "cell_type": "code",
   "execution_count": 88,
   "metadata": {},
   "outputs": [
    {
     "name": "stdout",
     "output_type": "stream",
     "text": [
      "PMI 상위 품사:\n",
      "멀다 (문서 174): 14.395908885082225\n",
      "무덥다 (문서 186): 14.395908885082225\n",
      "용하다 (문서 244): 14.395908885082225\n",
      "알맞다 (문서 3): 13.990443776974061\n",
      "부끄럽다 (문서 22): 13.990443776974061\n",
      "가녀리다 (문서 47): 13.990443776974061\n",
      "멀쩡하다 (문서 49): 13.990443776974061\n",
      "낮다 (문서 57): 13.990443776974061\n",
      "가득하다 (문서 64): 13.990443776974061\n",
      "흡사하다 (문서 76): 13.990443776974061\n"
     ]
    }
   ],
   "source": [
    "PMI(df, 'adj')"
   ]
  },
  {
   "cell_type": "code",
   "execution_count": 89,
   "metadata": {},
   "outputs": [
    {
     "name": "stdout",
     "output_type": "stream",
     "text": [
      "상위단어\n",
      "['예쁘다', '같다', '좋다', '있다', '여리다']\n",
      "\n",
      "상위 단어와 유사한 품사:\n",
      "예쁘다: [('깔끔하다', 0.9985467791557312), ('고급스럽다', 0.9985451102256775), ('높다', 0.99852454662323)]\n",
      "같다: [('은은하다', 0.9988837242126465), ('그렇다', 0.9987420439720154), ('있다', 0.9986683130264282)]\n",
      "좋다: [('이쁘다', 0.9988527894020081), ('은은하다', 0.9987040162086487), ('이상하다', 0.9986475706100464)]\n",
      "있다: [('그렇다', 0.998798668384552), ('이다', 0.9987853169441223), ('이쁘다', 0.9987225532531738)]\n",
      "여리다: [('좋다', 0.9982301592826843), ('차분하다', 0.997882604598999), ('비슷하다', 0.9978200793266296)]\n"
     ]
    }
   ],
   "source": [
    "WordEmbedding(df, 'adj')"
   ]
  },
  {
   "cell_type": "markdown",
   "metadata": {},
   "source": [
    "4-2. 명사"
   ]
  },
  {
   "cell_type": "code",
   "execution_count": 90,
   "metadata": {},
   "outputs": [
    {
     "name": "stdout",
     "output_type": "stream",
     "text": [
      "가장 많이 언급된 품사 (빈도순):\n",
      "색상: 313\n",
      "색: 293\n",
      "핏: 290\n",
      "옷: 283\n",
      "구매: 283\n",
      "보기: 264\n",
      "색감: 253\n",
      "느낌: 252\n",
      "핑크: 220\n",
      "진짜: 216\n"
     ]
    }
   ],
   "source": [
    "빈도분석(df, 'noun')"
   ]
  },
  {
   "cell_type": "code",
   "execution_count": 91,
   "metadata": {},
   "outputs": [
    {
     "name": "stdout",
     "output_type": "stream",
     "text": [
      "PMI 상위 품사:\n",
      "색더 (문서 15): 15.523480726462621\n",
      "펜더 (문서 22): 15.523480726462621\n",
      "꺄 (문서 23): 15.523480726462621\n",
      "지인 (문서 27): 15.523480726462621\n",
      "퍼킷 (문서 33): 15.523480726462621\n",
      "밥 (문서 36): 15.523480726462621\n",
      "신체 (문서 42): 15.523480726462621\n",
      "잘잘 (문서 66): 15.523480726462621\n",
      "줌 (문서 66): 15.523480726462621\n",
      "퍼펙트 (문서 71): 15.523480726462621\n"
     ]
    }
   ],
   "source": [
    "PMI(df, 'noun')"
   ]
  },
  {
   "cell_type": "code",
   "execution_count": 92,
   "metadata": {},
   "outputs": [
    {
     "name": "stdout",
     "output_type": "stream",
     "text": [
      "상위단어\n",
      "['색상', '색', '핏', '옷', '구매']\n",
      "\n",
      "상위 단어와 유사한 품사:\n",
      "색상: [('맘', 0.9994573593139648), ('티', 0.9994523525238037), ('느낌', 0.999371349811554)]\n",
      "색: [('요', 0.9995260238647461), ('맘', 0.9994467496871948), ('부', 0.9993268251419067)]\n",
      "핏: [('허리', 0.9994962811470032), ('편', 0.9994896054267883), ('주름', 0.9994733929634094)]\n",
      "옷: [('몸', 0.9994579553604126), ('완전', 0.9994567036628723), ('정도', 0.9994160532951355)]\n",
      "구매: [('것', 0.9992544054985046), ('고민', 0.9992441534996033), ('컬러', 0.9992119073867798)]\n"
     ]
    }
   ],
   "source": [
    "WordEmbedding(df, 'noun')"
   ]
  },
  {
   "cell_type": "markdown",
   "metadata": {},
   "source": [
    "4-3. all"
   ]
  },
  {
   "cell_type": "code",
   "execution_count": 93,
   "metadata": {},
   "outputs": [
    {
     "name": "stdout",
     "output_type": "stream",
     "text": [
      "가장 많이 언급된 품사 (빈도순):\n",
      "예쁘다: 775\n",
      "같다: 670\n",
      "좋다: 662\n",
      "있다: 639\n",
      "여리다: 523\n",
      "이다: 379\n",
      "이쁘다: 370\n",
      "색상: 313\n",
      "색: 293\n",
      "핏: 290\n"
     ]
    }
   ],
   "source": [
    "빈도분석(df, 'all')"
   ]
  },
  {
   "cell_type": "code",
   "execution_count": 94,
   "metadata": {},
   "outputs": [
    {
     "name": "stdout",
     "output_type": "stream",
     "text": [
      "PMI 상위 품사:\n",
      "색더 (문서 15): 15.803966928491555\n",
      "펜더 (문서 22): 15.803966928491555\n",
      "꺄 (문서 23): 15.803966928491555\n",
      "지인 (문서 27): 15.803966928491555\n",
      "퍼킷 (문서 33): 15.803966928491555\n",
      "밥 (문서 36): 15.803966928491555\n",
      "신체 (문서 42): 15.803966928491555\n",
      "잘잘 (문서 66): 15.803966928491555\n",
      "줌 (문서 66): 15.803966928491555\n",
      "퍼펙트 (문서 71): 15.803966928491555\n"
     ]
    }
   ],
   "source": [
    "PMI(df, 'all')"
   ]
  },
  {
   "cell_type": "code",
   "execution_count": 95,
   "metadata": {},
   "outputs": [
    {
     "name": "stdout",
     "output_type": "stream",
     "text": [
      "상위단어\n",
      "['예쁘다', '같다', '좋다', '있다', '여리다']\n",
      "\n",
      "상위 단어와 유사한 품사:\n",
      "예쁘다: [('좋다', 0.9969079494476318), ('같다', 0.9960328936576843), ('여리다', 0.9954383969306946)]\n",
      "같다: [('좋다', 0.9987727403640747), ('있다', 0.9982931613922119), ('이다', 0.9977961182594299)]\n",
      "좋다: [('같다', 0.9987727999687195), ('있다', 0.9976831078529358), ('예쁘다', 0.9969078898429871)]\n",
      "있다: [('같다', 0.9982931613922119), ('이다', 0.9978074431419373), ('좋다', 0.9976831078529358)]\n",
      "여리다: [('좋다', 0.995499312877655), ('예쁘다', 0.9954385161399841), ('같다', 0.9938734173774719)]\n"
     ]
    }
   ],
   "source": [
    "WordEmbedding(df, 'all')"
   ]
  },
  {
   "cell_type": "code",
   "execution_count": null,
   "metadata": {},
   "outputs": [],
   "source": []
  },
  {
   "cell_type": "code",
   "execution_count": null,
   "metadata": {},
   "outputs": [],
   "source": []
  },
  {
   "cell_type": "code",
   "execution_count": null,
   "metadata": {},
   "outputs": [],
   "source": []
  },
  {
   "cell_type": "markdown",
   "metadata": {},
   "source": [
    "#### 상품 : product147921597"
   ]
  },
  {
   "cell_type": "code",
   "execution_count": 98,
   "metadata": {},
   "outputs": [
    {
     "data": {
      "text/html": [
       "<div>\n",
       "<style scoped>\n",
       "    .dataframe tbody tr th:only-of-type {\n",
       "        vertical-align: middle;\n",
       "    }\n",
       "\n",
       "    .dataframe tbody tr th {\n",
       "        vertical-align: top;\n",
       "    }\n",
       "\n",
       "    .dataframe thead th {\n",
       "        text-align: right;\n",
       "    }\n",
       "</style>\n",
       "<table border=\"1\" class=\"dataframe\">\n",
       "  <thead>\n",
       "    <tr style=\"text-align: right;\">\n",
       "      <th></th>\n",
       "      <th>상품명</th>\n",
       "      <th>리뷰 코멘트</th>\n",
       "      <th>clean_count</th>\n",
       "      <th>clean_tfidf</th>\n",
       "    </tr>\n",
       "  </thead>\n",
       "  <tbody>\n",
       "    <tr>\n",
       "      <th>500</th>\n",
       "      <td>리얼코코 [단독] [봄신상🌸/브이넥&amp;amp;라운드넥/made] 시오 니트 - 20 ...</td>\n",
       "      <td>여리여리한 브이넥 니트, 겨울부터 초봄까지 완벽한 아이템! 🌿  이 브이넥 니트는 ...</td>\n",
       "      <td>강조해 강조해 줍니다 겨울부터 겨울부터 초봄까지 깔끔하면서도 깔끔하면서도 세련된 느...</td>\n",
       "      <td>강조해 강조해 줍니다 겨울부터 겨울부터 초봄까지 깔끔하면서도 깔끔하면서도 세련된 느...</td>\n",
       "    </tr>\n",
       "  </tbody>\n",
       "</table>\n",
       "</div>"
      ],
      "text/plain": [
       "                                                   상품명  \\\n",
       "500  리얼코코 [단독] [봄신상🌸/브이넥&amp;라운드넥/made] 시오 니트 - 20 ...   \n",
       "\n",
       "                                                리뷰 코멘트  \\\n",
       "500  여리여리한 브이넥 니트, 겨울부터 초봄까지 완벽한 아이템! 🌿  이 브이넥 니트는 ...   \n",
       "\n",
       "                                           clean_count  \\\n",
       "500  강조해 강조해 줍니다 겨울부터 겨울부터 초봄까지 깔끔하면서도 깔끔하면서도 세련된 느...   \n",
       "\n",
       "                                           clean_tfidf  \n",
       "500  강조해 강조해 줍니다 겨울부터 겨울부터 초봄까지 깔끔하면서도 깔끔하면서도 세련된 느...  "
      ]
     },
     "execution_count": 98,
     "metadata": {},
     "output_type": "execute_result"
    }
   ],
   "source": [
    "product147921597 = review[review.상품ID == 147921597]\n",
    "product147921597 = product147921597[['상품명', '리뷰 코멘트', 'clean_count', 'clean_tfidf']]\n",
    "product147921597.head(1)"
   ]
  },
  {
   "cell_type": "code",
   "execution_count": 101,
   "metadata": {},
   "outputs": [
    {
     "data": {
      "text/plain": [
       "'리얼코코 [단독] [봄신상🌸/브이넥&amp;라운드넥/made] 시오 니트 - 20 Color (하객룩/레이어드/출근룩/롱슬리브/봄옷/오피스룩/상의)'"
      ]
     },
     "execution_count": 101,
     "metadata": {},
     "output_type": "execute_result"
    }
   ],
   "source": [
    "product147921597['상품명'][500]"
   ]
  },
  {
   "cell_type": "markdown",
   "metadata": {},
   "source": [
    "##### 1. 상품명"
   ]
  },
  {
   "cell_type": "code",
   "execution_count": 102,
   "metadata": {},
   "outputs": [
    {
     "name": "stdout",
     "output_type": "stream",
     "text": [
      "명사 top : ['하객', '코코', '출근', '오피스', '신상', '시오', '슬리브', '상의', '브이넥', '봄옷', '리얼', '레이어', '라운드', '단독', '니트']\n",
      "\n",
      "형용사 top : []\n"
     ]
    }
   ],
   "source": [
    "okt = Okt()\n",
    "df = pd.DataFrame(None, columns=['noun','adj','all'])\n",
    "df.loc[0] = [1,2,3]\n",
    "for idx,text in enumerate(product147921597['상품명']):\n",
    "    n,a = topKeywords(okt,text)\n",
    "    df.loc[idx] = [' '.join(n), ' '.join(a), ' '.join(n)+' '+' '+' '.join(a)]\n",
    "\n",
    "tfidf = TfidfVectorizer()\n",
    "res = tfidf.fit_transform(df['all']).toarray()\n",
    "\n",
    "# TF-IDF 기준 상위 n_top 개수 키워드 추출\n",
    "n_top = 300\n",
    "importance = np.argsort(np.asarray(res.sum(axis=0)).ravel())[::-1]\n",
    "tfidf_feature_names = np.array(tfidf.get_feature_names_out())\n",
    "# print(tfidf_feature_names[importance[:n_top]])\n",
    "\n",
    "\n",
    "# TF-IDF 기준 상위 top 개수만큼 품사별 키워드 추출 (명사, 동사, 형용사)\n",
    "noun,adj = topKeywords(okt,' '.join(tfidf_feature_names[importance[:n_top]]))\n",
    "\n",
    "noun_top = 100\n",
    "print(f'명사 top : {noun[:noun_top]}')\n",
    "print()\n",
    "adj_top = 10\n",
    "print(f'형용사 top : {adj[:adj_top]}')"
   ]
  },
  {
   "cell_type": "markdown",
   "metadata": {},
   "source": [
    "##### 2. clean_count"
   ]
  },
  {
   "cell_type": "code",
   "execution_count": 103,
   "metadata": {},
   "outputs": [
    {
     "name": "stdout",
     "output_type": "stream",
     "text": [
      "명사 top : ['니트', '구매', '색상', '브이넥', '보기', '느낌', '아이보리', '생각', '색감', '진짜', '재질', '사진', '고민', '길이', '보풀', '다른', '정말', '소재', '퀄리티', '마음', '하나', '정도', '컬러', '가격', '두께', '겨울', '체형', '허리', '얼굴', '조금', '기장', '어깨', '라운드', '살짝', '리뷰', '후기', '완전', '단독', '걱정', '보리', '스카이', '배송', '그레이', '약간', '가슴', '추천', '멜론', '리다', '포인트', '디자인', '사이즈', '만족', '색도', '부분', '색깔', '블루', '하늘색', '주문', '편이', '화면', '이유', '제품', '자주', '밑단', '피부', '그냥', '선택', '핑크', '레드', '일단', '바지', '당첨', '촉감', '사고', '처음', '착용', '보이', '다만', '무난', '거리', '별로', '파스텔', '일리', '쿨톤', '라인', '추가', '셔츠', '버전', '짜임', '가성', '아주', '정전기', '대비', '카시', '자체', '레이어', '여리해', '화이트', '크롭', '역시']\n",
      "\n",
      "형용사 top : ['좋다', '같다', '있다', '예쁘다', '부드럽다', '이쁘다', '적당하다', '도톰하다', '없다', '따뜻하다']\n"
     ]
    }
   ],
   "source": [
    "okt = Okt()\n",
    "df = pd.DataFrame(None, columns=['noun','adj','all'])\n",
    "df.loc[0] = [1,2,3]\n",
    "for idx,text in enumerate(product147921597['clean_count']):\n",
    "    n,a = topKeywords(okt,text)\n",
    "    df.loc[idx] = [' '.join(n), ' '.join(a), ' '.join(n)+' '+' '+' '.join(a)]\n",
    "\n",
    "tfidf = TfidfVectorizer()\n",
    "res = tfidf.fit_transform(df['all']).toarray()\n",
    "\n",
    "# TF-IDF 기준 상위 n_top 개수 키워드 추출\n",
    "n_top = 300\n",
    "importance = np.argsort(np.asarray(res.sum(axis=0)).ravel())[::-1]\n",
    "tfidf_feature_names = np.array(tfidf.get_feature_names_out())\n",
    "# print(tfidf_feature_names[importance[:n_top]])\n",
    "\n",
    "\n",
    "# TF-IDF 기준 상위 top 개수만큼 품사별 키워드 추출 (명사, 동사, 형용사)\n",
    "noun,adj = topKeywords(okt,' '.join(tfidf_feature_names[importance[:n_top]]))\n",
    "\n",
    "noun_top = 100\n",
    "print(f'명사 top : {noun[:noun_top]}')\n",
    "print()\n",
    "adj_top = 10\n",
    "print(f'형용사 top : {adj[:adj_top]}')"
   ]
  },
  {
   "cell_type": "markdown",
   "metadata": {},
   "source": [
    "2-1. 형용사 사용"
   ]
  },
  {
   "cell_type": "code",
   "execution_count": 104,
   "metadata": {},
   "outputs": [
    {
     "name": "stdout",
     "output_type": "stream",
     "text": [
      "가장 많이 언급된 품사 (빈도순):\n",
      "좋다: 470\n",
      "같다: 422\n",
      "있다: 340\n",
      "예쁘다: 291\n",
      "이다: 207\n",
      "부드럽다: 156\n",
      "도톰하다: 124\n",
      "이쁘다: 124\n",
      "적당하다: 119\n",
      "없다: 104\n"
     ]
    }
   ],
   "source": [
    "빈도분석(df, 'adj')"
   ]
  },
  {
   "cell_type": "code",
   "execution_count": 105,
   "metadata": {},
   "outputs": [
    {
     "name": "stdout",
     "output_type": "stream",
     "text": [
      "상위단어\n",
      "['좋다', '같다', '있다', '예쁘다', '이다']\n",
      "\n",
      "상위 단어와 유사한 품사:\n",
      "좋다: [('없다', 0.9994710087776184), ('있다', 0.9993377327919006), ('같다', 0.9993017315864563)]\n",
      "같다: [('없다', 0.9993231892585754), ('있다', 0.9993049502372742), ('좋다', 0.9993016123771667)]\n",
      "있다: [('이다', 0.9993889927864075), ('없다', 0.999367892742157), ('좋다', 0.9993376135826111)]\n",
      "예쁘다: [('있다', 0.9993230700492859), ('같다', 0.9992616176605225), ('좋다', 0.9992237687110901)]\n",
      "이다: [('있다', 0.9993889331817627), ('같다', 0.9992595911026001), ('좋다', 0.9992237687110901)]\n"
     ]
    }
   ],
   "source": [
    "WordEmbedding(df, 'adj')"
   ]
  },
  {
   "cell_type": "markdown",
   "metadata": {},
   "source": [
    "2-2. 명사 사용"
   ]
  },
  {
   "cell_type": "code",
   "execution_count": 106,
   "metadata": {},
   "outputs": [
    {
     "name": "stdout",
     "output_type": "stream",
     "text": [
      "가장 많이 언급된 품사 (빈도순):\n",
      "니트: 372\n",
      "보기: 310\n",
      "구매: 265\n",
      "색상: 258\n",
      "더: 221\n",
      "브이넥: 182\n",
      "색: 180\n",
      "핏: 158\n",
      "느낌: 150\n",
      "아이보리: 141\n"
     ]
    }
   ],
   "source": [
    "빈도분석(df, 'noun')"
   ]
  },
  {
   "cell_type": "code",
   "execution_count": 107,
   "metadata": {},
   "outputs": [
    {
     "name": "stdout",
     "output_type": "stream",
     "text": [
      "상위단어\n",
      "['니트', '보기', '구매', '색상', '더']\n",
      "\n",
      "상위 단어와 유사한 품사:\n",
      "니트: [('보기', 0.9997350573539734), ('색', 0.9996762871742249), ('정도', 0.9996649622917175)]\n",
      "보기: [('니트', 0.9997351169586182), ('색감', 0.9996520280838013), ('진짜', 0.9996509552001953)]\n",
      "구매: [('색감', 0.9996543526649475), ('니트', 0.9996497631072998), ('색', 0.9996470808982849)]\n",
      "색상: [('보기', 0.9996347427368164), ('브이넥', 0.9996222853660583), ('색', 0.9996176958084106)]\n",
      "더: [('두께', 0.9996459484100342), ('니트', 0.9996386766433716), ('보기', 0.9996333122253418)]\n"
     ]
    }
   ],
   "source": [
    "WordEmbedding(df, 'noun')"
   ]
  },
  {
   "cell_type": "markdown",
   "metadata": {},
   "source": [
    "2-3. all"
   ]
  },
  {
   "cell_type": "code",
   "execution_count": 108,
   "metadata": {},
   "outputs": [
    {
     "name": "stdout",
     "output_type": "stream",
     "text": [
      "가장 많이 언급된 품사 (빈도순):\n",
      "좋다: 470\n",
      "같다: 422\n",
      "니트: 372\n",
      "있다: 340\n",
      "보기: 310\n",
      "예쁘다: 291\n",
      "구매: 265\n",
      "색상: 258\n",
      "더: 221\n",
      "이다: 207\n"
     ]
    }
   ],
   "source": [
    "빈도분석(df, 'all')"
   ]
  },
  {
   "cell_type": "code",
   "execution_count": 109,
   "metadata": {},
   "outputs": [
    {
     "name": "stdout",
     "output_type": "stream",
     "text": [
      "상위단어\n",
      "['좋다', '같다', '니트', '있다', '보기']\n",
      "\n",
      "상위 단어와 유사한 품사:\n",
      "좋다: [('있다', 0.9981806874275208), ('예쁘다', 0.9963506460189819), ('이쁘다', 0.9944601058959961)]\n",
      "같다: [('부드럽다', 0.9991528391838074), ('따뜻하다', 0.9988184571266174), ('이다', 0.9987478256225586)]\n",
      "니트: [('보기', 0.9996867179870605), ('더', 0.9996697306632996), ('구매', 0.9995707869529724)]\n",
      "있다: [('좋다', 0.9981807470321655), ('예쁘다', 0.9971825480461121), ('이쁘다', 0.9960887432098389)]\n",
      "보기: [('두께', 0.9996975660324097), ('니트', 0.9996866583824158), ('정말', 0.9996705651283264)]\n"
     ]
    }
   ],
   "source": [
    "WordEmbedding(df, 'all')"
   ]
  },
  {
   "cell_type": "markdown",
   "metadata": {},
   "source": [
    "##### 3. clean_tfidf"
   ]
  },
  {
   "cell_type": "code",
   "execution_count": 110,
   "metadata": {},
   "outputs": [
    {
     "name": "stdout",
     "output_type": "stream",
     "text": [
      "명사 top : ['니트', '구매', '색상', '브이넥', '보기', '느낌', '아이보리', '생각', '색감', '진짜', '재질', '사진', '고민', '길이', '보풀', '다른', '정말', '소재', '퀄리티', '마음', '하나', '정도', '컬러', '가격', '두께', '겨울', '체형', '허리', '얼굴', '조금', '기장', '어깨', '라운드', '살짝', '리뷰', '후기', '완전', '단독', '걱정', '보리', '스카이', '배송', '그레이', '약간', '가슴', '추천', '멜론', '리다', '포인트', '디자인', '사이즈', '만족', '색도', '부분', '색깔', '블루', '하늘색', '주문', '편이', '화면', '이유', '제품', '자주', '밑단', '피부', '그냥', '선택', '핑크', '레드', '일단', '바지', '당첨', '촉감', '사고', '처음', '착용', '보이', '다만', '무난', '거리', '별로', '파스텔', '일리', '쿨톤', '라인', '추가', '셔츠', '버전', '짜임', '가성', '아주', '정전기', '대비', '카시', '자체', '레이어', '여리해', '화이트', '크롭', '역시']\n",
      "\n",
      "형용사 top : ['좋다', '같다', '있다', '예쁘다', '부드럽다', '이쁘다', '적당하다', '도톰하다', '없다', '따뜻하다']\n"
     ]
    }
   ],
   "source": [
    "okt = Okt()\n",
    "df = pd.DataFrame(None, columns=['noun','adj','all'])\n",
    "df.loc[0] = [1,2,3]\n",
    "for idx,text in enumerate(product147921597['clean_tfidf']):\n",
    "    n,a = topKeywords(okt,text)\n",
    "    df.loc[idx] = [' '.join(n), ' '.join(a), ' '.join(n)+' '+' '+' '.join(a)]\n",
    "\n",
    "tfidf = TfidfVectorizer()\n",
    "res = tfidf.fit_transform(df['all']).toarray()\n",
    "\n",
    "# TF-IDF 기준 상위 n_top 개수 키워드 추출\n",
    "n_top = 300\n",
    "importance = np.argsort(np.asarray(res.sum(axis=0)).ravel())[::-1]\n",
    "tfidf_feature_names = np.array(tfidf.get_feature_names_out())\n",
    "# print(tfidf_feature_names[importance[:n_top]])\n",
    "\n",
    "\n",
    "# TF-IDF 기준 상위 top 개수만큼 품사별 키워드 추출 (명사, 동사, 형용사)\n",
    "noun,adj = topKeywords(okt,' '.join(tfidf_feature_names[importance[:n_top]]))\n",
    "\n",
    "noun_top = 100\n",
    "print(f'명사 top : {noun[:noun_top]}')\n",
    "print()\n",
    "adj_top = 10\n",
    "print(f'형용사 top : {adj[:adj_top]}')"
   ]
  },
  {
   "cell_type": "markdown",
   "metadata": {},
   "source": [
    "3-1. 형용사 사용"
   ]
  },
  {
   "cell_type": "code",
   "execution_count": 111,
   "metadata": {},
   "outputs": [
    {
     "name": "stdout",
     "output_type": "stream",
     "text": [
      "가장 많이 언급된 품사 (빈도순):\n",
      "좋다: 470\n",
      "같다: 422\n",
      "있다: 340\n",
      "예쁘다: 291\n",
      "이다: 207\n",
      "부드럽다: 156\n",
      "도톰하다: 124\n",
      "이쁘다: 124\n",
      "적당하다: 119\n",
      "없다: 104\n"
     ]
    }
   ],
   "source": [
    "빈도분석(df, 'adj')"
   ]
  },
  {
   "cell_type": "code",
   "execution_count": 112,
   "metadata": {},
   "outputs": [
    {
     "name": "stdout",
     "output_type": "stream",
     "text": [
      "상위단어\n",
      "['좋다', '같다', '있다', '예쁘다', '이다']\n",
      "\n",
      "상위 단어와 유사한 품사:\n",
      "좋다: [('없다', 0.9994710087776184), ('있다', 0.9993377327919006), ('같다', 0.9993017315864563)]\n",
      "같다: [('없다', 0.9993231892585754), ('있다', 0.9993049502372742), ('좋다', 0.9993016123771667)]\n",
      "있다: [('이다', 0.9993889927864075), ('없다', 0.999367892742157), ('좋다', 0.9993376135826111)]\n",
      "예쁘다: [('있다', 0.9993230700492859), ('같다', 0.9992616176605225), ('좋다', 0.9992237687110901)]\n",
      "이다: [('있다', 0.9993889331817627), ('같다', 0.9992595911026001), ('좋다', 0.9992237687110901)]\n"
     ]
    }
   ],
   "source": [
    "WordEmbedding(df, 'adj')"
   ]
  },
  {
   "cell_type": "markdown",
   "metadata": {},
   "source": [
    "3-2. 명사 사용"
   ]
  },
  {
   "cell_type": "code",
   "execution_count": 113,
   "metadata": {},
   "outputs": [
    {
     "name": "stdout",
     "output_type": "stream",
     "text": [
      "가장 많이 언급된 품사 (빈도순):\n",
      "니트: 372\n",
      "보기: 310\n",
      "구매: 265\n",
      "색상: 258\n",
      "더: 221\n",
      "브이넥: 182\n",
      "색: 180\n",
      "핏: 158\n",
      "느낌: 150\n",
      "아이보리: 141\n"
     ]
    }
   ],
   "source": [
    "빈도분석(df, 'noun')"
   ]
  },
  {
   "cell_type": "code",
   "execution_count": 114,
   "metadata": {},
   "outputs": [
    {
     "name": "stdout",
     "output_type": "stream",
     "text": [
      "상위단어\n",
      "['니트', '보기', '구매', '색상', '더']\n",
      "\n",
      "상위 단어와 유사한 품사:\n",
      "니트: [('보기', 0.999737024307251), ('색', 0.9996783137321472), ('정도', 0.9996628165245056)]\n",
      "보기: [('니트', 0.9997371435165405), ('색감', 0.9996544122695923), ('브이넥', 0.9996515512466431)]\n",
      "구매: [('색감', 0.9996523857116699), ('색', 0.9996466040611267), ('니트', 0.9996461868286133)]\n",
      "색상: [('보기', 0.9996377229690552), ('브이넥', 0.9996278882026672), ('색', 0.9996205568313599)]\n",
      "더: [('두께', 0.9996452331542969), ('니트', 0.9996398687362671), ('보기', 0.999635636806488)]\n"
     ]
    }
   ],
   "source": [
    "WordEmbedding(df, 'noun')"
   ]
  },
  {
   "cell_type": "markdown",
   "metadata": {},
   "source": [
    "3-3. all"
   ]
  },
  {
   "cell_type": "code",
   "execution_count": 115,
   "metadata": {},
   "outputs": [
    {
     "name": "stdout",
     "output_type": "stream",
     "text": [
      "가장 많이 언급된 품사 (빈도순):\n",
      "좋다: 470\n",
      "같다: 422\n",
      "니트: 372\n",
      "있다: 340\n",
      "보기: 310\n",
      "예쁘다: 291\n",
      "구매: 265\n",
      "색상: 258\n",
      "더: 221\n",
      "이다: 207\n"
     ]
    }
   ],
   "source": [
    "빈도분석(df, 'all')"
   ]
  },
  {
   "cell_type": "code",
   "execution_count": 116,
   "metadata": {},
   "outputs": [
    {
     "name": "stdout",
     "output_type": "stream",
     "text": [
      "상위단어\n",
      "['좋다', '같다', '니트', '있다', '보기']\n",
      "\n",
      "상위 단어와 유사한 품사:\n",
      "좋다: [('있다', 0.9982182383537292), ('예쁘다', 0.9963417649269104), ('이쁘다', 0.9944908618927002)]\n",
      "같다: [('부드럽다', 0.9991495609283447), ('따뜻하다', 0.9988108277320862), ('이다', 0.9987550973892212)]\n",
      "니트: [('보기', 0.9996870160102844), ('더', 0.9996736645698547), ('구매', 0.9995772838592529)]\n",
      "있다: [('좋다', 0.9982181787490845), ('예쁘다', 0.9971246719360352), ('이쁘다', 0.9960204362869263)]\n",
      "보기: [('두께', 0.9997004866600037), ('니트', 0.9996871948242188), ('정말', 0.9996541142463684)]\n"
     ]
    }
   ],
   "source": [
    "WordEmbedding(df, 'all')"
   ]
  },
  {
   "cell_type": "code",
   "execution_count": null,
   "metadata": {},
   "outputs": [],
   "source": []
  },
  {
   "cell_type": "markdown",
   "metadata": {},
   "source": [
    "## 결론"
   ]
  },
  {
   "cell_type": "code",
   "execution_count": 1,
   "metadata": {},
   "outputs": [
    {
     "ename": "NameError",
     "evalue": "name 'review' is not defined",
     "output_type": "error",
     "traceback": [
      "\u001b[0;31m---------------------------------------------------------------------------\u001b[0m",
      "\u001b[0;31mNameError\u001b[0m                                 Traceback (most recent call last)",
      "Cell \u001b[0;32mIn[1], line 1\u001b[0m\n\u001b[0;32m----> 1\u001b[0m review_keyword \u001b[38;5;241m=\u001b[39m \u001b[43mreview\u001b[49m[[\u001b[38;5;124m'\u001b[39m\u001b[38;5;124m상품명\u001b[39m\u001b[38;5;124m'\u001b[39m, \u001b[38;5;124m'\u001b[39m\u001b[38;5;124mclean_count\u001b[39m\u001b[38;5;124m'\u001b[39m, \u001b[38;5;124m'\u001b[39m\u001b[38;5;124m상품ID\u001b[39m\u001b[38;5;124m'\u001b[39m]]\n\u001b[1;32m      2\u001b[0m review_keyword\n",
      "\u001b[0;31mNameError\u001b[0m: name 'review' is not defined"
     ]
    }
   ],
   "source": [
    "review_keyword = review[['상품명', 'clean_count', '상품ID']]\n",
    "review_keyword"
   ]
  },
  {
   "cell_type": "code",
   "execution_count": null,
   "metadata": {},
   "outputs": [],
   "source": [
    "review_keyword = review_keyword[review_keyword['clean_count'].notna()]   # 결측이 아닌 것만 사용해야 됨.."
   ]
  },
  {
   "cell_type": "code",
   "execution_count": 133,
   "metadata": {},
   "outputs": [],
   "source": [
    "import pandas as pd\n",
    "import numpy as np\n",
    "from collections import Counter\n",
    "from konlpy.tag import Okt\n",
    "from sklearn.feature_extraction.text import TfidfVectorizer\n",
    "from gensim.models import Word2Vec\n",
    "\n",
    "def topKeywords(okt, text):\n",
    "    nouns = []\n",
    "    adjs = []\n",
    "    for word, pos in okt.pos(text):\n",
    "        if pos == 'Noun':\n",
    "            nouns.append(word)\n",
    "        elif pos == 'Adjective':\n",
    "            adjs.append(word)\n",
    "    return nouns, adjs\n",
    "\n",
    "def extract_keywords(product_df):\n",
    "    okt = Okt()\n",
    "    result_list = []\n",
    "    \n",
    "    for product_id, group in product_df.groupby('상품ID'):\n",
    "        # 상품명 키워드 추출\n",
    "        df_name = pd.DataFrame(columns=['all'])\n",
    "        df_name['all'] = group['상품명'].apply(lambda x: ' '.join(topKeywords(okt, x)[0]))\n",
    "        tfidf = TfidfVectorizer()\n",
    "        res = tfidf.fit_transform(df_name['all']).toarray()\n",
    "        importance = np.argsort(np.asarray(res.sum(axis=0)).ravel())[::-1]\n",
    "        tfidf_feature_names = np.array(tfidf.get_feature_names_out())\n",
    "        name_keywords = tfidf_feature_names[importance[:100]]\n",
    "        \n",
    "        # 리뷰 키워드 추출\n",
    "        df_review = pd.DataFrame(columns=['all'])\n",
    "        df_review['all'] = group['clean_count'].apply(lambda x: ' '.join(topKeywords(okt, x)[0] + topKeywords(okt, x)[1]))\n",
    "        tfidf = TfidfVectorizer()\n",
    "        res = tfidf.fit_transform(df_review['all']).toarray()\n",
    "        importance = np.argsort(np.asarray(res.sum(axis=0)).ravel())[::-1]\n",
    "        tfidf_feature_names = np.array(tfidf.get_feature_names_out())\n",
    "        review_noun, review_adj = topKeywords(okt, ' '.join(tfidf_feature_names[importance[:300]]))\n",
    "        \n",
    "        # Word2Vec을 활용한 형용사 유사 단어\n",
    "        df_adj = pd.DataFrame({'adj': group['clean_count'].apply(lambda x: ' '.join(topKeywords(okt, x)[1]))})\n",
    "        sentences = df_adj['adj'].str.split().tolist()\n",
    "        model = Word2Vec(sentences, vector_size=100, window=5, min_count=1, workers=4)\n",
    "        word_counts = Counter(df_adj['adj'].str.split().explode())\n",
    "        top_words = [word for word, count in word_counts.most_common(5)]\n",
    "        similar_words = {word: model.wv.most_similar(word, topn=3) for word in top_words}\n",
    "        \n",
    "        # 결과 리스트에 추가\n",
    "        result_list.append({\n",
    "            '상품ID': product_id,\n",
    "            '상품명 키워드': ', '.join(name_keywords),\n",
    "            '리뷰 키워드 (명사)': ', '.join(review_noun[:100]),\n",
    "            '리뷰 키워드 (형용사)': ', '.join(review_adj[:10]),\n",
    "            '형용사 유사 단어': str(similar_words)\n",
    "        })\n",
    "    \n",
    "    # 리스트를 데이터프레임으로 변환\n",
    "    result_df = pd.DataFrame(result_list)\n",
    "    return result_df\n"
   ]
  },
  {
   "cell_type": "code",
   "execution_count": 134,
   "metadata": {},
   "outputs": [],
   "source": [
    "a = extract_keywords(review_keyword)"
   ]
  },
  {
   "cell_type": "code",
   "execution_count": 135,
   "metadata": {},
   "outputs": [],
   "source": [
    "a.to_csv(\"키워드추출.csv\", index=False, encoding=\"utf-8-sig\")"
   ]
  },
  {
   "cell_type": "code",
   "execution_count": 136,
   "metadata": {},
   "outputs": [
    {
     "data": {
      "text/html": [
       "<div>\n",
       "<style scoped>\n",
       "    .dataframe tbody tr th:only-of-type {\n",
       "        vertical-align: middle;\n",
       "    }\n",
       "\n",
       "    .dataframe tbody tr th {\n",
       "        vertical-align: top;\n",
       "    }\n",
       "\n",
       "    .dataframe thead th {\n",
       "        text-align: right;\n",
       "    }\n",
       "</style>\n",
       "<table border=\"1\" class=\"dataframe\">\n",
       "  <thead>\n",
       "    <tr style=\"text-align: right;\">\n",
       "      <th></th>\n",
       "      <th>상품ID</th>\n",
       "      <th>상품명 키워드</th>\n",
       "      <th>리뷰 키워드 (명사)</th>\n",
       "      <th>리뷰 키워드 (형용사)</th>\n",
       "      <th>형용사 유사 단어</th>\n",
       "    </tr>\n",
       "  </thead>\n",
       "  <tbody>\n",
       "    <tr>\n",
       "      <th>0</th>\n",
       "      <td>100457185.0</td>\n",
       "      <td>팬츠, 패럴, 트렌디, 부츠, 밴딩, 기획, 공항</td>\n",
       "      <td>길이, 바지, 재질, 기장, 구매, 생각, 다리, 진짜, 느낌, 밴딩, 사이즈, 허...</td>\n",
       "      <td>같아요, 좋아요, 편하고, 편해요, 편하게, 입니다, 좋고, 예뻐요, 길어, 날씬해</td>\n",
       "      <td>{'같아요': [('좋아요', 0.9903361797332764), ('입니다', ...</td>\n",
       "    </tr>\n",
       "    <tr>\n",
       "      <th>1</th>\n",
       "      <td>100468216.0</td>\n",
       "      <td>페이보릿, 클래식, 진행, 상품, 베스트, 배송, 무료, 메리, 리뷰, 라운드, 단독</td>\n",
       "      <td>자켓, 사이즈, 버핏, 구매, 어깨, 퀄리티, 가격, 느낌, 생각, 차콜, 마음, ...</td>\n",
       "      <td>같아요, 좋아요, 입니다, 있어서, 좋은, 좋고, 적당히, 예뻐요, 좋아서, 만족합니다</td>\n",
       "      <td>{'같아요': [('좋아요', 0.9966840147972107), ('입니다', ...</td>\n",
       "    </tr>\n",
       "    <tr>\n",
       "      <th>2</th>\n",
       "      <td>100480591.0</td>\n",
       "      <td>호피, 폭주, 주얼, 주문, 일리, 여성, 에코, 숄더백, 빈티, 발송, 매듭, 리...</td>\n",
       "      <td>가방, 생각, 포인트, 호피, 가격, 크로스, 배송, 물건, 구매, 디자인, 바닥,...</td>\n",
       "      <td>좋아요, 같아요, 있어서, 이뻐요, 예뻐요, 편하게, 좋고, 좋은, 가볍고, 있고</td>\n",
       "      <td>{'좋아요': [('같아요', 0.8993897438049316), ('있어서', ...</td>\n",
       "    </tr>\n",
       "    <tr>\n",
       "      <th>3</th>\n",
       "      <td>100781760.0</td>\n",
       "      <td>헬스, 필라테스, 토드, 출고, 추가, 요가, 여행, 빅백, 보스턴, 보라, 당일, 가방</td>\n",
       "      <td>여행, 공간, 가방, 수납, 사용, 신발, 방수, 완전, 주머니, 색깔, 진짜, 마...</td>\n",
       "      <td>좋아요, 있어서, 같아요, 유용하게, 좋고, 좋았어요, 입니다, 넓고, 가볍고, 좋은</td>\n",
       "      <td>{'좋아요': [('많은거', 0.29679858684539795), ('빨라요',...</td>\n",
       "    </tr>\n",
       "    <tr>\n",
       "      <th>4</th>\n",
       "      <td>101062215.0</td>\n",
       "      <td>기본, 하객, 팬츠, 겨울, 구매, 기장, 다리, 라이프, 미친핏, 밍크, 베니, ...</td>\n",
       "      <td>바지, 허리, 사이즈, 길이, 구매, 버전, 재질, 다리, 진짜, 겨울, 슬랙스, ...</td>\n",
       "      <td>같아요, 좋아요, 입니다, 편하고, 있어서, 좋아서, 길어, 있는, 편해요, 날씬해</td>\n",
       "      <td>{'같아요': [('좋아요', 0.9990600943565369), ('좋아서', ...</td>\n",
       "    </tr>\n",
       "    <tr>\n",
       "      <th>...</th>\n",
       "      <td>...</td>\n",
       "      <td>...</td>\n",
       "      <td>...</td>\n",
       "      <td>...</td>\n",
       "      <td>...</td>\n",
       "    </tr>\n",
       "    <tr>\n",
       "      <th>284</th>\n",
       "      <td>154238846.0</td>\n",
       "      <td>카디건, 스파오, 라운드</td>\n",
       "      <td>사이즈, 가디건, 구매, 재질, 생각, 느낌, 가격, 보풀, 색상, 보기, 다른, ...</td>\n",
       "      <td>같아요, 좋아요, 좋고, 입니다, 부드럽고, 좋은, 좋아서, 있는, 예뻐요, 있어서</td>\n",
       "      <td>{'같아요': [('좋아요', 0.9991394281387329), ('있는', 0...</td>\n",
       "    </tr>\n",
       "    <tr>\n",
       "      <th>285</th>\n",
       "      <td>156434505.0</td>\n",
       "      <td>후아유, 헨리, 티셔츠, 골지</td>\n",
       "      <td>사이즈, 구매, 생각, 여름, 네이비, 재질, 다른, 살짝, 정도, 퀄리티, 색상,...</td>\n",
       "      <td>같아요, 예뻐요, 좋아요, 있는, 좋고, 이뻐요, 작게, 예쁘고, 있어서, 적당히</td>\n",
       "      <td>{'같아요': [('있으신', 0.489641398191452), ('적당해서', ...</td>\n",
       "    </tr>\n",
       "    <tr>\n",
       "      <th>286</th>\n",
       "      <td>158195942.0</td>\n",
       "      <td>틴팅, 태그, 증정, 이상, 블러, 뷰튜버, 밀크, 구매</td>\n",
       "      <td>가격, 느낌, 색상, 구매, 제품, 베이스, 발색, 발림, 파우치, 생각, 추천, ...</td>\n",
       "      <td>좋아요, 같아요, 좋은, 부드럽게, 예쁘고, 없어서, 예뻐요, 부드러워서, 딱이에요...</td>\n",
       "      <td>{'좋아요': [('촉촉하게', 0.2943156957626343), ('괜찮고',...</td>\n",
       "    </tr>\n",
       "    <tr>\n",
       "      <th>287</th>\n",
       "      <td>158197795.0</td>\n",
       "      <td>팔레트, 태그, 아이, 글림</td>\n",
       "      <td>화면, 색감, 별로, 구애, 여뮽, 뮤트, 베이스, 글리터, 사용, 주문, 포인트,...</td>\n",
       "      <td>같아요, 꼼꼼하게, 빠르고, 좋아요, 가까워서, 괜찮을거, 입니당, 이뻐서, 작았는...</td>\n",
       "      <td>{'같아요': [('작았는데', 0.21613812446594238), ('이뿔듯'...</td>\n",
       "    </tr>\n",
       "    <tr>\n",
       "      <th>288</th>\n",
       "      <td>159140443.0</td>\n",
       "      <td>토미, 라룸, 니트</td>\n",
       "      <td>색감, 간절, 색상, 구매, 느낌, 생각, 가지, 보리, 라벨, 소재, 안쪽, 가성...</td>\n",
       "      <td>예뻐서, 좋고, 같아요, 적당해서, 좋은, 없어요, 없고, 괜찮아서, 얇은데, 반해서</td>\n",
       "      <td>{'같아요': [('이쁘게', 0.22079284489154816), ('오묘합니다...</td>\n",
       "    </tr>\n",
       "  </tbody>\n",
       "</table>\n",
       "<p>289 rows × 5 columns</p>\n",
       "</div>"
      ],
      "text/plain": [
       "            상품ID                                            상품명 키워드  \\\n",
       "0    100457185.0                        팬츠, 패럴, 트렌디, 부츠, 밴딩, 기획, 공항   \n",
       "1    100468216.0    페이보릿, 클래식, 진행, 상품, 베스트, 배송, 무료, 메리, 리뷰, 라운드, 단독   \n",
       "2    100480591.0  호피, 폭주, 주얼, 주문, 일리, 여성, 에코, 숄더백, 빈티, 발송, 매듭, 리...   \n",
       "3    100781760.0  헬스, 필라테스, 토드, 출고, 추가, 요가, 여행, 빅백, 보스턴, 보라, 당일, 가방   \n",
       "4    101062215.0  기본, 하객, 팬츠, 겨울, 구매, 기장, 다리, 라이프, 미친핏, 밍크, 베니, ...   \n",
       "..           ...                                                ...   \n",
       "284  154238846.0                                      카디건, 스파오, 라운드   \n",
       "285  156434505.0                                   후아유, 헨리, 티셔츠, 골지   \n",
       "286  158195942.0                    틴팅, 태그, 증정, 이상, 블러, 뷰튜버, 밀크, 구매   \n",
       "287  158197795.0                                    팔레트, 태그, 아이, 글림   \n",
       "288  159140443.0                                         토미, 라룸, 니트   \n",
       "\n",
       "                                           리뷰 키워드 (명사)  \\\n",
       "0    길이, 바지, 재질, 기장, 구매, 생각, 다리, 진짜, 느낌, 밴딩, 사이즈, 허...   \n",
       "1    자켓, 사이즈, 버핏, 구매, 어깨, 퀄리티, 가격, 느낌, 생각, 차콜, 마음, ...   \n",
       "2    가방, 생각, 포인트, 호피, 가격, 크로스, 배송, 물건, 구매, 디자인, 바닥,...   \n",
       "3    여행, 공간, 가방, 수납, 사용, 신발, 방수, 완전, 주머니, 색깔, 진짜, 마...   \n",
       "4    바지, 허리, 사이즈, 길이, 구매, 버전, 재질, 다리, 진짜, 겨울, 슬랙스, ...   \n",
       "..                                                 ...   \n",
       "284  사이즈, 가디건, 구매, 재질, 생각, 느낌, 가격, 보풀, 색상, 보기, 다른, ...   \n",
       "285  사이즈, 구매, 생각, 여름, 네이비, 재질, 다른, 살짝, 정도, 퀄리티, 색상,...   \n",
       "286  가격, 느낌, 색상, 구매, 제품, 베이스, 발색, 발림, 파우치, 생각, 추천, ...   \n",
       "287  화면, 색감, 별로, 구애, 여뮽, 뮤트, 베이스, 글리터, 사용, 주문, 포인트,...   \n",
       "288  색감, 간절, 색상, 구매, 느낌, 생각, 가지, 보리, 라벨, 소재, 안쪽, 가성...   \n",
       "\n",
       "                                          리뷰 키워드 (형용사)  \\\n",
       "0       같아요, 좋아요, 편하고, 편해요, 편하게, 입니다, 좋고, 예뻐요, 길어, 날씬해   \n",
       "1     같아요, 좋아요, 입니다, 있어서, 좋은, 좋고, 적당히, 예뻐요, 좋아서, 만족합니다   \n",
       "2        좋아요, 같아요, 있어서, 이뻐요, 예뻐요, 편하게, 좋고, 좋은, 가볍고, 있고   \n",
       "3      좋아요, 있어서, 같아요, 유용하게, 좋고, 좋았어요, 입니다, 넓고, 가볍고, 좋은   \n",
       "4       같아요, 좋아요, 입니다, 편하고, 있어서, 좋아서, 길어, 있는, 편해요, 날씬해   \n",
       "..                                                 ...   \n",
       "284     같아요, 좋아요, 좋고, 입니다, 부드럽고, 좋은, 좋아서, 있는, 예뻐요, 있어서   \n",
       "285      같아요, 예뻐요, 좋아요, 있는, 좋고, 이뻐요, 작게, 예쁘고, 있어서, 적당히   \n",
       "286  좋아요, 같아요, 좋은, 부드럽게, 예쁘고, 없어서, 예뻐요, 부드러워서, 딱이에요...   \n",
       "287  같아요, 꼼꼼하게, 빠르고, 좋아요, 가까워서, 괜찮을거, 입니당, 이뻐서, 작았는...   \n",
       "288    예뻐서, 좋고, 같아요, 적당해서, 좋은, 없어요, 없고, 괜찮아서, 얇은데, 반해서   \n",
       "\n",
       "                                             형용사 유사 단어  \n",
       "0    {'같아요': [('좋아요', 0.9903361797332764), ('입니다', ...  \n",
       "1    {'같아요': [('좋아요', 0.9966840147972107), ('입니다', ...  \n",
       "2    {'좋아요': [('같아요', 0.8993897438049316), ('있어서', ...  \n",
       "3    {'좋아요': [('많은거', 0.29679858684539795), ('빨라요',...  \n",
       "4    {'같아요': [('좋아요', 0.9990600943565369), ('좋아서', ...  \n",
       "..                                                 ...  \n",
       "284  {'같아요': [('좋아요', 0.9991394281387329), ('있는', 0...  \n",
       "285  {'같아요': [('있으신', 0.489641398191452), ('적당해서', ...  \n",
       "286  {'좋아요': [('촉촉하게', 0.2943156957626343), ('괜찮고',...  \n",
       "287  {'같아요': [('작았는데', 0.21613812446594238), ('이뿔듯'...  \n",
       "288  {'같아요': [('이쁘게', 0.22079284489154816), ('오묘합니다...  \n",
       "\n",
       "[289 rows x 5 columns]"
      ]
     },
     "execution_count": 136,
     "metadata": {},
     "output_type": "execute_result"
    }
   ],
   "source": [
    "a"
   ]
  },
  {
   "cell_type": "code",
   "execution_count": 6,
   "metadata": {},
   "outputs": [
    {
     "data": {
      "text/html": [
       "<div>\n",
       "<style scoped>\n",
       "    .dataframe tbody tr th:only-of-type {\n",
       "        vertical-align: middle;\n",
       "    }\n",
       "\n",
       "    .dataframe tbody tr th {\n",
       "        vertical-align: top;\n",
       "    }\n",
       "\n",
       "    .dataframe thead th {\n",
       "        text-align: right;\n",
       "    }\n",
       "</style>\n",
       "<table border=\"1\" class=\"dataframe\">\n",
       "  <thead>\n",
       "    <tr style=\"text-align: right;\">\n",
       "      <th></th>\n",
       "      <th>상품ID</th>\n",
       "      <th>상품명 키워드</th>\n",
       "      <th>리뷰 키워드 (명사)</th>\n",
       "      <th>리뷰 키워드 (형용사)</th>\n",
       "      <th>형용사 유사 단어</th>\n",
       "      <th>스타일</th>\n",
       "    </tr>\n",
       "  </thead>\n",
       "  <tbody>\n",
       "    <tr>\n",
       "      <th>0</th>\n",
       "      <td>100457185</td>\n",
       "      <td>팬츠, 패럴, 트렌디, 부츠, 밴딩, 기획, 공항</td>\n",
       "      <td>길이, 바지, 재질, 기장, 구매, 생각, 다리, 진짜, 느낌, 밴딩, 사이즈, 허...</td>\n",
       "      <td>같아요, 좋아요, 편하고, 편해요, 편하게, 입니다, 좋고, 예뻐요, 길어, 날씬해</td>\n",
       "      <td>{'같아요': [('좋아요', 0.9903361797332764), ('입니다', ...</td>\n",
       "      <td>캐주얼</td>\n",
       "    </tr>\n",
       "    <tr>\n",
       "      <th>1</th>\n",
       "      <td>100468216</td>\n",
       "      <td>페이보릿, 클래식, 진행, 상품, 베스트, 배송, 무료, 메리, 리뷰, 라운드, 단독</td>\n",
       "      <td>자켓, 사이즈, 버핏, 구매, 어깨, 퀄리티, 가격, 느낌, 생각, 차콜, 마음, ...</td>\n",
       "      <td>같아요, 좋아요, 입니다, 있어서, 좋은, 좋고, 적당히, 예뻐요, 좋아서, 만족합니다</td>\n",
       "      <td>{'같아요': [('좋아요', 0.9966840147972107), ('입니다', ...</td>\n",
       "      <td>미니멀</td>\n",
       "    </tr>\n",
       "    <tr>\n",
       "      <th>2</th>\n",
       "      <td>100480591</td>\n",
       "      <td>호피, 폭주, 주얼, 주문, 일리, 여성, 에코, 숄더백, 빈티, 발송, 매듭, 리...</td>\n",
       "      <td>가방, 생각, 포인트, 호피, 가격, 크로스, 배송, 물건, 구매, 디자인, 바닥,...</td>\n",
       "      <td>좋아요, 같아요, 있어서, 이뻐요, 예뻐요, 편하게, 좋고, 좋은, 가볍고, 있고</td>\n",
       "      <td>{'좋아요': [('같아요', 0.8993897438049316), ('있어서', ...</td>\n",
       "      <td>빈티지</td>\n",
       "    </tr>\n",
       "    <tr>\n",
       "      <th>3</th>\n",
       "      <td>100781760</td>\n",
       "      <td>헬스, 필라테스, 토드, 출고, 추가, 요가, 여행, 빅백, 보스턴, 보라, 당일, 가방</td>\n",
       "      <td>여행, 공간, 가방, 수납, 사용, 신발, 방수, 완전, 주머니, 색깔, 진짜, 마...</td>\n",
       "      <td>좋아요, 있어서, 같아요, 유용하게, 좋고, 좋았어요, 입니다, 넓고, 가볍고, 좋은</td>\n",
       "      <td>{'좋아요': [('많은거', 0.29679858684539795), ('빨라요',...</td>\n",
       "      <td>캐주얼</td>\n",
       "    </tr>\n",
       "    <tr>\n",
       "      <th>4</th>\n",
       "      <td>101062215</td>\n",
       "      <td>기본, 하객, 팬츠, 겨울, 구매, 기장, 다리, 라이프, 미친핏, 밍크, 베니, ...</td>\n",
       "      <td>바지, 허리, 사이즈, 길이, 구매, 버전, 재질, 다리, 진짜, 겨울, 슬랙스, ...</td>\n",
       "      <td>같아요, 좋아요, 입니다, 편하고, 있어서, 좋아서, 길어, 있는, 편해요, 날씬해</td>\n",
       "      <td>{'같아요': [('좋아요', 0.9990600943565369), ('좋아서', ...</td>\n",
       "      <td>미니멀</td>\n",
       "    </tr>\n",
       "    <tr>\n",
       "      <th>...</th>\n",
       "      <td>...</td>\n",
       "      <td>...</td>\n",
       "      <td>...</td>\n",
       "      <td>...</td>\n",
       "      <td>...</td>\n",
       "      <td>...</td>\n",
       "    </tr>\n",
       "    <tr>\n",
       "      <th>284</th>\n",
       "      <td>154238846</td>\n",
       "      <td>카디건, 스파오, 라운드</td>\n",
       "      <td>사이즈, 가디건, 구매, 재질, 생각, 느낌, 가격, 보풀, 색상, 보기, 다른, ...</td>\n",
       "      <td>같아요, 좋아요, 좋고, 입니다, 부드럽고, 좋은, 좋아서, 있는, 예뻐요, 있어서</td>\n",
       "      <td>{'같아요': [('좋아요', 0.9991394281387329), ('있는', 0...</td>\n",
       "      <td>NaN</td>\n",
       "    </tr>\n",
       "    <tr>\n",
       "      <th>285</th>\n",
       "      <td>156434505</td>\n",
       "      <td>후아유, 헨리, 티셔츠, 골지</td>\n",
       "      <td>사이즈, 구매, 생각, 여름, 네이비, 재질, 다른, 살짝, 정도, 퀄리티, 색상,...</td>\n",
       "      <td>같아요, 예뻐요, 좋아요, 있는, 좋고, 이뻐요, 작게, 예쁘고, 있어서, 적당히</td>\n",
       "      <td>{'같아요': [('있으신', 0.489641398191452), ('적당해서', ...</td>\n",
       "      <td>NaN</td>\n",
       "    </tr>\n",
       "    <tr>\n",
       "      <th>286</th>\n",
       "      <td>158195942</td>\n",
       "      <td>틴팅, 태그, 증정, 이상, 블러, 뷰튜버, 밀크, 구매</td>\n",
       "      <td>가격, 느낌, 색상, 구매, 제품, 베이스, 발색, 발림, 파우치, 생각, 추천, ...</td>\n",
       "      <td>좋아요, 같아요, 좋은, 부드럽게, 예쁘고, 없어서, 예뻐요, 부드러워서, 딱이에요...</td>\n",
       "      <td>{'좋아요': [('촉촉하게', 0.2943156957626343), ('괜찮고',...</td>\n",
       "      <td>NaN</td>\n",
       "    </tr>\n",
       "    <tr>\n",
       "      <th>287</th>\n",
       "      <td>158197795</td>\n",
       "      <td>팔레트, 태그, 아이, 글림</td>\n",
       "      <td>화면, 색감, 별로, 구애, 여뮽, 뮤트, 베이스, 글리터, 사용, 주문, 포인트,...</td>\n",
       "      <td>같아요, 꼼꼼하게, 빠르고, 좋아요, 가까워서, 괜찮을거, 입니당, 이뻐서, 작았는...</td>\n",
       "      <td>{'같아요': [('작았는데', 0.21613812446594238), ('이뿔듯'...</td>\n",
       "      <td>NaN</td>\n",
       "    </tr>\n",
       "    <tr>\n",
       "      <th>288</th>\n",
       "      <td>159140443</td>\n",
       "      <td>토미, 라룸, 니트</td>\n",
       "      <td>색감, 간절, 색상, 구매, 느낌, 생각, 가지, 보리, 라벨, 소재, 안쪽, 가성...</td>\n",
       "      <td>예뻐서, 좋고, 같아요, 적당해서, 좋은, 없어요, 없고, 괜찮아서, 얇은데, 반해서</td>\n",
       "      <td>{'같아요': [('이쁘게', 0.22079284489154816), ('오묘합니다...</td>\n",
       "      <td>NaN</td>\n",
       "    </tr>\n",
       "  </tbody>\n",
       "</table>\n",
       "<p>289 rows × 6 columns</p>\n",
       "</div>"
      ],
      "text/plain": [
       "          상품ID                                            상품명 키워드  \\\n",
       "0    100457185                        팬츠, 패럴, 트렌디, 부츠, 밴딩, 기획, 공항   \n",
       "1    100468216    페이보릿, 클래식, 진행, 상품, 베스트, 배송, 무료, 메리, 리뷰, 라운드, 단독   \n",
       "2    100480591  호피, 폭주, 주얼, 주문, 일리, 여성, 에코, 숄더백, 빈티, 발송, 매듭, 리...   \n",
       "3    100781760  헬스, 필라테스, 토드, 출고, 추가, 요가, 여행, 빅백, 보스턴, 보라, 당일, 가방   \n",
       "4    101062215  기본, 하객, 팬츠, 겨울, 구매, 기장, 다리, 라이프, 미친핏, 밍크, 베니, ...   \n",
       "..         ...                                                ...   \n",
       "284  154238846                                      카디건, 스파오, 라운드   \n",
       "285  156434505                                   후아유, 헨리, 티셔츠, 골지   \n",
       "286  158195942                    틴팅, 태그, 증정, 이상, 블러, 뷰튜버, 밀크, 구매   \n",
       "287  158197795                                    팔레트, 태그, 아이, 글림   \n",
       "288  159140443                                         토미, 라룸, 니트   \n",
       "\n",
       "                                           리뷰 키워드 (명사)  \\\n",
       "0    길이, 바지, 재질, 기장, 구매, 생각, 다리, 진짜, 느낌, 밴딩, 사이즈, 허...   \n",
       "1    자켓, 사이즈, 버핏, 구매, 어깨, 퀄리티, 가격, 느낌, 생각, 차콜, 마음, ...   \n",
       "2    가방, 생각, 포인트, 호피, 가격, 크로스, 배송, 물건, 구매, 디자인, 바닥,...   \n",
       "3    여행, 공간, 가방, 수납, 사용, 신발, 방수, 완전, 주머니, 색깔, 진짜, 마...   \n",
       "4    바지, 허리, 사이즈, 길이, 구매, 버전, 재질, 다리, 진짜, 겨울, 슬랙스, ...   \n",
       "..                                                 ...   \n",
       "284  사이즈, 가디건, 구매, 재질, 생각, 느낌, 가격, 보풀, 색상, 보기, 다른, ...   \n",
       "285  사이즈, 구매, 생각, 여름, 네이비, 재질, 다른, 살짝, 정도, 퀄리티, 색상,...   \n",
       "286  가격, 느낌, 색상, 구매, 제품, 베이스, 발색, 발림, 파우치, 생각, 추천, ...   \n",
       "287  화면, 색감, 별로, 구애, 여뮽, 뮤트, 베이스, 글리터, 사용, 주문, 포인트,...   \n",
       "288  색감, 간절, 색상, 구매, 느낌, 생각, 가지, 보리, 라벨, 소재, 안쪽, 가성...   \n",
       "\n",
       "                                          리뷰 키워드 (형용사)  \\\n",
       "0       같아요, 좋아요, 편하고, 편해요, 편하게, 입니다, 좋고, 예뻐요, 길어, 날씬해   \n",
       "1     같아요, 좋아요, 입니다, 있어서, 좋은, 좋고, 적당히, 예뻐요, 좋아서, 만족합니다   \n",
       "2        좋아요, 같아요, 있어서, 이뻐요, 예뻐요, 편하게, 좋고, 좋은, 가볍고, 있고   \n",
       "3      좋아요, 있어서, 같아요, 유용하게, 좋고, 좋았어요, 입니다, 넓고, 가볍고, 좋은   \n",
       "4       같아요, 좋아요, 입니다, 편하고, 있어서, 좋아서, 길어, 있는, 편해요, 날씬해   \n",
       "..                                                 ...   \n",
       "284     같아요, 좋아요, 좋고, 입니다, 부드럽고, 좋은, 좋아서, 있는, 예뻐요, 있어서   \n",
       "285      같아요, 예뻐요, 좋아요, 있는, 좋고, 이뻐요, 작게, 예쁘고, 있어서, 적당히   \n",
       "286  좋아요, 같아요, 좋은, 부드럽게, 예쁘고, 없어서, 예뻐요, 부드러워서, 딱이에요...   \n",
       "287  같아요, 꼼꼼하게, 빠르고, 좋아요, 가까워서, 괜찮을거, 입니당, 이뻐서, 작았는...   \n",
       "288    예뻐서, 좋고, 같아요, 적당해서, 좋은, 없어요, 없고, 괜찮아서, 얇은데, 반해서   \n",
       "\n",
       "                                             형용사 유사 단어  스타일  \n",
       "0    {'같아요': [('좋아요', 0.9903361797332764), ('입니다', ...  캐주얼  \n",
       "1    {'같아요': [('좋아요', 0.9966840147972107), ('입니다', ...  미니멀  \n",
       "2    {'좋아요': [('같아요', 0.8993897438049316), ('있어서', ...  빈티지  \n",
       "3    {'좋아요': [('많은거', 0.29679858684539795), ('빨라요',...  캐주얼  \n",
       "4    {'같아요': [('좋아요', 0.9990600943565369), ('좋아서', ...  미니멀  \n",
       "..                                                 ...  ...  \n",
       "284  {'같아요': [('좋아요', 0.9991394281387329), ('있는', 0...  NaN  \n",
       "285  {'같아요': [('있으신', 0.489641398191452), ('적당해서', ...  NaN  \n",
       "286  {'좋아요': [('촉촉하게', 0.2943156957626343), ('괜찮고',...  NaN  \n",
       "287  {'같아요': [('작았는데', 0.21613812446594238), ('이뿔듯'...  NaN  \n",
       "288  {'같아요': [('이쁘게', 0.22079284489154816), ('오묘합니다...  NaN  \n",
       "\n",
       "[289 rows x 6 columns]"
      ]
     },
     "execution_count": 6,
     "metadata": {},
     "output_type": "execute_result"
    }
   ],
   "source": [
    "keyword = pd.read_csv(\"키워드추출.csv\")\n",
    "keyword"
   ]
  },
  {
   "cell_type": "code",
   "execution_count": 8,
   "metadata": {},
   "outputs": [],
   "source": [
    "\n",
    "# 한 파일당 저장할 행 수\n",
    "chunk_size = 20\n",
    "\n",
    "# 데이터프레임을 나누어 CSV 저장\n",
    "for idx, start in enumerate(range(0, len(keyword), chunk_size), start=1):\n",
    "    keyword.iloc[start:start+chunk_size].to_csv(f'data_part_{idx}.csv', index=False, encoding='utf-8-sig')"
   ]
  },
  {
   "cell_type": "code",
   "execution_count": 10,
   "metadata": {},
   "outputs": [],
   "source": [
    "forders = [\"data_part_1.csv\",\n",
    "    \"data_part_2.csv\",\n",
    "    \"data_part_3.csv\",\n",
    "    \"data_part_4.csv\",\n",
    "    \"data_part_5.csv\",\n",
    "    \"data_part_6.csv\",\n",
    "    \"data_part_7.csv\",\n",
    "    \"data_part_8.csv\",\n",
    "    \"data_part_9.csv\",\n",
    "    \"data_part_10.csv\",\n",
    "    \"data_part_11.csv\",\n",
    "    \"data_part_12.csv\",\n",
    "    \"data_part_13.csv\",\n",
    "    \"data_part_14.csv\",\n",
    "    \"data_part_15.csv\"]\n",
    "\n",
    "키워드_분류 = pd.DataFrame()\n",
    "for files in forders:\n",
    "    df = pd.read_csv(files, encoding=\"utf-8-sig\")\n",
    "    키워드_분류 = pd.concat([키워드_분류, df])\n",
    "    \n",
    "키워드_분류 = 키워드_분류.reset_index(drop=True)\n",
    "키워드_분류 = 키워드_분류[['상품ID', '스타일']]"
   ]
  },
  {
   "cell_type": "code",
   "execution_count": 11,
   "metadata": {},
   "outputs": [
    {
     "data": {
      "text/html": [
       "<div>\n",
       "<style scoped>\n",
       "    .dataframe tbody tr th:only-of-type {\n",
       "        vertical-align: middle;\n",
       "    }\n",
       "\n",
       "    .dataframe tbody tr th {\n",
       "        vertical-align: top;\n",
       "    }\n",
       "\n",
       "    .dataframe thead th {\n",
       "        text-align: right;\n",
       "    }\n",
       "</style>\n",
       "<table border=\"1\" class=\"dataframe\">\n",
       "  <thead>\n",
       "    <tr style=\"text-align: right;\">\n",
       "      <th></th>\n",
       "      <th>상품ID</th>\n",
       "      <th>스타일</th>\n",
       "    </tr>\n",
       "  </thead>\n",
       "  <tbody>\n",
       "    <tr>\n",
       "      <th>0</th>\n",
       "      <td>100457185</td>\n",
       "      <td>캐주얼</td>\n",
       "    </tr>\n",
       "    <tr>\n",
       "      <th>1</th>\n",
       "      <td>100468216</td>\n",
       "      <td>미니멀</td>\n",
       "    </tr>\n",
       "    <tr>\n",
       "      <th>2</th>\n",
       "      <td>100480591</td>\n",
       "      <td>빈티지</td>\n",
       "    </tr>\n",
       "    <tr>\n",
       "      <th>3</th>\n",
       "      <td>100781760</td>\n",
       "      <td>캐주얼</td>\n",
       "    </tr>\n",
       "    <tr>\n",
       "      <th>4</th>\n",
       "      <td>101062215</td>\n",
       "      <td>미니멀</td>\n",
       "    </tr>\n",
       "    <tr>\n",
       "      <th>...</th>\n",
       "      <td>...</td>\n",
       "      <td>...</td>\n",
       "    </tr>\n",
       "    <tr>\n",
       "      <th>284</th>\n",
       "      <td>154238846</td>\n",
       "      <td>미니멀</td>\n",
       "    </tr>\n",
       "    <tr>\n",
       "      <th>285</th>\n",
       "      <td>156434505</td>\n",
       "      <td>미니멀</td>\n",
       "    </tr>\n",
       "    <tr>\n",
       "      <th>286</th>\n",
       "      <td>158195942</td>\n",
       "      <td>러블리</td>\n",
       "    </tr>\n",
       "    <tr>\n",
       "      <th>287</th>\n",
       "      <td>158197795</td>\n",
       "      <td>미니멀</td>\n",
       "    </tr>\n",
       "    <tr>\n",
       "      <th>288</th>\n",
       "      <td>159140443</td>\n",
       "      <td>러블리</td>\n",
       "    </tr>\n",
       "  </tbody>\n",
       "</table>\n",
       "<p>289 rows × 2 columns</p>\n",
       "</div>"
      ],
      "text/plain": [
       "          상품ID  스타일\n",
       "0    100457185  캐주얼\n",
       "1    100468216  미니멀\n",
       "2    100480591  빈티지\n",
       "3    100781760  캐주얼\n",
       "4    101062215  미니멀\n",
       "..         ...  ...\n",
       "284  154238846  미니멀\n",
       "285  156434505  미니멀\n",
       "286  158195942  러블리\n",
       "287  158197795  미니멀\n",
       "288  159140443  러블리\n",
       "\n",
       "[289 rows x 2 columns]"
      ]
     },
     "execution_count": 11,
     "metadata": {},
     "output_type": "execute_result"
    }
   ],
   "source": [
    "키워드_분류"
   ]
  },
  {
   "cell_type": "code",
   "execution_count": 12,
   "metadata": {},
   "outputs": [
    {
     "data": {
      "text/html": [
       "<div>\n",
       "<style scoped>\n",
       "    .dataframe tbody tr th:only-of-type {\n",
       "        vertical-align: middle;\n",
       "    }\n",
       "\n",
       "    .dataframe tbody tr th {\n",
       "        vertical-align: top;\n",
       "    }\n",
       "\n",
       "    .dataframe thead th {\n",
       "        text-align: right;\n",
       "    }\n",
       "</style>\n",
       "<table border=\"1\" class=\"dataframe\">\n",
       "  <thead>\n",
       "    <tr style=\"text-align: right;\">\n",
       "      <th></th>\n",
       "      <th>순위</th>\n",
       "      <th>카테고리</th>\n",
       "      <th>세부 카테고리</th>\n",
       "      <th>브랜드</th>\n",
       "      <th>상품명</th>\n",
       "      <th>정가</th>\n",
       "      <th>할인율</th>\n",
       "      <th>할인가</th>\n",
       "      <th>최저가</th>\n",
       "      <th>평균 리뷰 점수</th>\n",
       "      <th>리뷰 개수</th>\n",
       "      <th>배송</th>\n",
       "      <th>링크</th>\n",
       "      <th>상품ID</th>\n",
       "    </tr>\n",
       "  </thead>\n",
       "  <tbody>\n",
       "    <tr>\n",
       "      <th>0</th>\n",
       "      <td>1</td>\n",
       "      <td>의류</td>\n",
       "      <td>상의</td>\n",
       "      <td>퍼빗</td>\n",
       "      <td>퍼빗 [랩티1등🏆/누적5만장🩰/모델전색소장💗/평점4.8극찬💭/기모ver.] 단독제작...</td>\n",
       "      <td>43200</td>\n",
       "      <td>0.31</td>\n",
       "      <td>37300.0</td>\n",
       "      <td>29840</td>\n",
       "      <td>4.8</td>\n",
       "      <td>4509</td>\n",
       "      <td>일반배송무료배송</td>\n",
       "      <td>https://zigzag.kr/catalog/products/130108350</td>\n",
       "      <td>130108350</td>\n",
       "    </tr>\n",
       "    <tr>\n",
       "      <th>1</th>\n",
       "      <td>2</td>\n",
       "      <td>의류</td>\n",
       "      <td>상의</td>\n",
       "      <td>리얼코코</td>\n",
       "      <td>리얼코코 [단독] [봄신상🌸/브이넥&amp;amp;라운드넥/made] 시오 니트 - 20 ...</td>\n",
       "      <td>51000</td>\n",
       "      <td>0.57</td>\n",
       "      <td>24630.0</td>\n",
       "      <td>22160</td>\n",
       "      <td>4.8</td>\n",
       "      <td>16998</td>\n",
       "      <td>직진배송</td>\n",
       "      <td>https://zigzag.kr/catalog/products/147921597</td>\n",
       "      <td>147921597</td>\n",
       "    </tr>\n",
       "    <tr>\n",
       "      <th>2</th>\n",
       "      <td>3</td>\n",
       "      <td>의류</td>\n",
       "      <td>하의</td>\n",
       "      <td>고고싱</td>\n",
       "      <td>고고싱 [역대급53만장🏆11컬러/부츠컷슬랙스🌷봄팬츠] 반하이 모찌슬랙스 #세미부츠컷...</td>\n",
       "      <td>34900</td>\n",
       "      <td>0.36</td>\n",
       "      <td>24800.0</td>\n",
       "      <td>22320</td>\n",
       "      <td>4.7</td>\n",
       "      <td>77846</td>\n",
       "      <td>직진배송</td>\n",
       "      <td>https://zigzag.kr/catalog/products/113041967</td>\n",
       "      <td>113041967</td>\n",
       "    </tr>\n",
       "    <tr>\n",
       "      <th>3</th>\n",
       "      <td>4</td>\n",
       "      <td>의류</td>\n",
       "      <td>상의</td>\n",
       "      <td>데일리쥬</td>\n",
       "      <td>데일리쥬 [단독][1만장판매/MADE] 라스카 레이어드 텐셀 라운드 티셔츠 (워머옵...</td>\n",
       "      <td>30000</td>\n",
       "      <td>0.36</td>\n",
       "      <td>21370.0</td>\n",
       "      <td>19230</td>\n",
       "      <td>4.7</td>\n",
       "      <td>5248</td>\n",
       "      <td>직진배송</td>\n",
       "      <td>https://zigzag.kr/catalog/products/128943162</td>\n",
       "      <td>128943162</td>\n",
       "    </tr>\n",
       "    <tr>\n",
       "      <th>4</th>\n",
       "      <td>5</td>\n",
       "      <td>의류</td>\n",
       "      <td>상의</td>\n",
       "      <td>마이온샵</td>\n",
       "      <td>마이온샵 [BEST][누적2만장돌파🥇][4타입] #MADE 메로트 골지 니트티 (4...</td>\n",
       "      <td>43000</td>\n",
       "      <td>0.42</td>\n",
       "      <td>31160.0</td>\n",
       "      <td>24920</td>\n",
       "      <td>4.7</td>\n",
       "      <td>3215</td>\n",
       "      <td>직진배송</td>\n",
       "      <td>https://zigzag.kr/catalog/products/129147932</td>\n",
       "      <td>129147932</td>\n",
       "    </tr>\n",
       "  </tbody>\n",
       "</table>\n",
       "</div>"
      ],
      "text/plain": [
       "   순위 카테고리 세부 카테고리   브랜드                                                상품명  \\\n",
       "0   1   의류      상의    퍼빗  퍼빗 [랩티1등🏆/누적5만장🩰/모델전색소장💗/평점4.8극찬💭/기모ver.] 단독제작...   \n",
       "1   2   의류      상의  리얼코코  리얼코코 [단독] [봄신상🌸/브이넥&amp;라운드넥/made] 시오 니트 - 20 ...   \n",
       "2   3   의류      하의   고고싱  고고싱 [역대급53만장🏆11컬러/부츠컷슬랙스🌷봄팬츠] 반하이 모찌슬랙스 #세미부츠컷...   \n",
       "3   4   의류      상의  데일리쥬  데일리쥬 [단독][1만장판매/MADE] 라스카 레이어드 텐셀 라운드 티셔츠 (워머옵...   \n",
       "4   5   의류      상의  마이온샵  마이온샵 [BEST][누적2만장돌파🥇][4타입] #MADE 메로트 골지 니트티 (4...   \n",
       "\n",
       "      정가   할인율      할인가    최저가  평균 리뷰 점수  리뷰 개수        배송  \\\n",
       "0  43200  0.31  37300.0  29840       4.8   4509  일반배송무료배송   \n",
       "1  51000  0.57  24630.0  22160       4.8  16998      직진배송   \n",
       "2  34900  0.36  24800.0  22320       4.7  77846      직진배송   \n",
       "3  30000  0.36  21370.0  19230       4.7   5248      직진배송   \n",
       "4  43000  0.42  31160.0  24920       4.7   3215      직진배송   \n",
       "\n",
       "                                             링크       상품ID  \n",
       "0  https://zigzag.kr/catalog/products/130108350  130108350  \n",
       "1  https://zigzag.kr/catalog/products/147921597  147921597  \n",
       "2  https://zigzag.kr/catalog/products/113041967  113041967  \n",
       "3  https://zigzag.kr/catalog/products/128943162  128943162  \n",
       "4  https://zigzag.kr/catalog/products/129147932  129147932  "
      ]
     },
     "execution_count": 12,
     "metadata": {},
     "output_type": "execute_result"
    }
   ],
   "source": [
    "product.head()"
   ]
  },
  {
   "cell_type": "code",
   "execution_count": null,
   "metadata": {},
   "outputs": [],
   "source": []
  },
  {
   "cell_type": "code",
   "execution_count": 16,
   "metadata": {},
   "outputs": [],
   "source": [
    "product_분류포함 = pd.merge(product, 키워드_분류, on='상품ID', how='outer')\n",
    "product_분류포함.to_csv(\"product_분류포함.csv\", index=False, encoding='utf-8-sig')"
   ]
  },
  {
   "cell_type": "code",
   "execution_count": 3,
   "metadata": {},
   "outputs": [],
   "source": [
    "product_분류포함 = pd.read_csv(\"product_분류포함.csv\")"
   ]
  },
  {
   "cell_type": "code",
   "execution_count": 4,
   "metadata": {},
   "outputs": [
    {
     "data": {
      "text/plain": [
       "Index(['순위', '카테고리', '세부 카테고리', '브랜드', '상품명', '정가', '할인율', '할인가', '최저가',\n",
       "       '평균 리뷰 점수', '리뷰 개수', '배송', '링크', '상품ID', '스타일'],\n",
       "      dtype='object')"
      ]
     },
     "execution_count": 4,
     "metadata": {},
     "output_type": "execute_result"
    }
   ],
   "source": [
    "product_분류포함.columns"
   ]
  },
  {
   "cell_type": "code",
   "execution_count": 10,
   "metadata": {},
   "outputs": [
    {
     "data": {
      "text/plain": [
       "스타일  세부 카테고리\n",
       "러블리  상의         29\n",
       "     치마          8\n",
       "미니멀  상의         30\n",
       "     아우터         3\n",
       "     치마          1\n",
       "     하의          8\n",
       "빈티지  상의          4\n",
       "     아우터         9\n",
       "     치마          2\n",
       "     하의         15\n",
       "스트릿  하의          2\n",
       "캐주얼  상의          7\n",
       "     아우터         1\n",
       "     치마          5\n",
       "     하의         25\n",
       "dtype: int64"
      ]
     },
     "execution_count": 10,
     "metadata": {},
     "output_type": "execute_result"
    }
   ],
   "source": [
    "product_분류포함.query(\"카테고리 == '의류'\").groupby(['스타일', '세부 카테고리']).size()"
   ]
  },
  {
   "cell_type": "code",
   "execution_count": 30,
   "metadata": {},
   "outputs": [
    {
     "data": {
      "text/plain": [
       "스타일\n",
       "러블리     1\n",
       "미니멀    12\n",
       "빈티지     4\n",
       "스트릿     8\n",
       "캐주얼    20\n",
       "dtype: int64"
      ]
     },
     "execution_count": 30,
     "metadata": {},
     "output_type": "execute_result"
    }
   ],
   "source": [
    "product_분류포함.query(\"카테고리 == '가방'\").groupby(['스타일']).size()"
   ]
  },
  {
   "cell_type": "code",
   "execution_count": 31,
   "metadata": {},
   "outputs": [
    {
     "data": {
      "text/plain": [
       "스타일\n",
       "러블리    12\n",
       "미니멀     8\n",
       "빈티지    11\n",
       "스트릿     4\n",
       "캐주얼    13\n",
       "dtype: int64"
      ]
     },
     "execution_count": 31,
     "metadata": {},
     "output_type": "execute_result"
    }
   ],
   "source": [
    "product_분류포함.query(\"카테고리 == '슈즈'\").groupby(['스타일']).size()"
   ]
  },
  {
   "cell_type": "code",
   "execution_count": null,
   "metadata": {},
   "outputs": [],
   "source": []
  },
  {
   "cell_type": "code",
   "execution_count": null,
   "metadata": {},
   "outputs": [],
   "source": []
  },
  {
   "cell_type": "code",
   "execution_count": 4,
   "metadata": {},
   "outputs": [
    {
     "name": "stderr",
     "output_type": "stream",
     "text": [
      "/var/folders/4z/77ppy0w97mq12l8j00pcdgr80000gn/T/ipykernel_5231/38691114.py:1: DtypeWarning: Columns (0,1,2,3,4,5,6,7,8,9,10,12,13,14,16,17,18,19,20) have mixed types. Specify dtype option on import or set low_memory=False.\n",
      "  공유df = pd.read_csv(\"review_전처리.csv\").drop(columns='keyword')\n"
     ]
    }
   ],
   "source": [
    "공유df = pd.read_csv(\"review_전처리.csv\").drop(columns='keyword')\n",
    "공유df.to_csv(\"review_전처리.csv\", index=False, encoding='utf-8-sig')"
   ]
  },
  {
   "cell_type": "code",
   "execution_count": 2,
   "metadata": {},
   "outputs": [],
   "source": [
    "import pandas as pd"
   ]
  },
  {
   "cell_type": "code",
   "execution_count": 4,
   "metadata": {},
   "outputs": [
    {
     "name": "stdout",
     "output_type": "stream",
     "text": [
      "<class 'pandas.core.frame.DataFrame'>\n",
      "RangeIndex: 154560 entries, 0 to 154559\n",
      "Data columns (total 20 columns):\n",
      " #   Column        Non-Null Count   Dtype  \n",
      "---  ------        --------------   -----  \n",
      " 0   리뷰순서          154560 non-null  object \n",
      " 1   카테고리          121792 non-null  object \n",
      " 2   브랜드           121792 non-null  object \n",
      " 3   상품명           121792 non-null  object \n",
      " 4   작성자           121792 non-null  object \n",
      " 5   작성 날짜         121792 non-null  object \n",
      " 6   옵션            121728 non-null  object \n",
      " 7   사이즈           118734 non-null  object \n",
      " 8   퀄리티           116640 non-null  object \n",
      " 9   색감            114991 non-null  object \n",
      " 10  정보            86943 non-null   object \n",
      " 11  리뷰 점수         121791 non-null  float64\n",
      " 12  리뷰 코멘트        116724 non-null  object \n",
      " 13  배송형태          113090 non-null  object \n",
      " 14  포토리뷰          113090 non-null  object \n",
      " 15  상품ID          113090 non-null  float64\n",
      " 16  review_count  113090 non-null  object \n",
      " 17  review_tfidf  113090 non-null  object \n",
      " 18  clean_count   108021 non-null  object \n",
      " 19  clean_tfidf   108021 non-null  object \n",
      "dtypes: float64(2), object(18)\n",
      "memory usage: 23.6+ MB\n"
     ]
    },
    {
     "name": "stderr",
     "output_type": "stream",
     "text": [
      "/var/folders/4z/77ppy0w97mq12l8j00pcdgr80000gn/T/ipykernel_6376/2707026465.py:1: DtypeWarning: Columns (0,1,2,3,4,5,6,7,8,9,10,12,13,14,16,17,18,19) have mixed types. Specify dtype option on import or set low_memory=False.\n",
      "  df = pd.read_csv(\"review_전처리.csv\")\n"
     ]
    }
   ],
   "source": [
    "df = pd.read_csv(\"review_전처리.csv\")\n",
    "df.info()"
   ]
  },
  {
   "cell_type": "code",
   "execution_count": null,
   "metadata": {},
   "outputs": [],
   "source": []
  }
 ],
 "metadata": {
  "kernelspec": {
   "display_name": "nlp_study",
   "language": "python",
   "name": "python3"
  },
  "language_info": {
   "codemirror_mode": {
    "name": "ipython",
    "version": 3
   },
   "file_extension": ".py",
   "mimetype": "text/x-python",
   "name": "python",
   "nbconvert_exporter": "python",
   "pygments_lexer": "ipython3",
   "version": "3.8.18"
  }
 },
 "nbformat": 4,
 "nbformat_minor": 2
}
