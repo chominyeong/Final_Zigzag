{
 "cells": [
  {
   "cell_type": "code",
   "execution_count": 1,
   "metadata": {},
   "outputs": [],
   "source": [
    "import pandas as pd\n",
    "import matplotlib.pyplot as plt\n",
    "import seaborn as sns\n",
    "import numpy as np\n",
    "import collections\n",
    "from matplotlib.colors import ListedColormap\n",
    "import re\n",
    "\n",
    "\n",
    "plt.rc('font', family='AppleGothic') \n",
    "plt.rcParams['axes.unicode_minus'] =False"
   ]
  },
  {
   "cell_type": "code",
   "execution_count": 2,
   "metadata": {},
   "outputs": [],
   "source": [
    "product = pd.read_csv(\"Zigzag_products.csv\")\n",
    "review = pd.read_csv(\"Zigzag_reviews.csv\")"
   ]
  },
  {
   "cell_type": "code",
   "execution_count": 3,
   "metadata": {},
   "outputs": [
    {
     "data": {
      "text/html": [
       "<div>\n",
       "<style scoped>\n",
       "    .dataframe tbody tr th:only-of-type {\n",
       "        vertical-align: middle;\n",
       "    }\n",
       "\n",
       "    .dataframe tbody tr th {\n",
       "        vertical-align: top;\n",
       "    }\n",
       "\n",
       "    .dataframe thead th {\n",
       "        text-align: right;\n",
       "    }\n",
       "</style>\n",
       "<table border=\"1\" class=\"dataframe\">\n",
       "  <thead>\n",
       "    <tr style=\"text-align: right;\">\n",
       "      <th></th>\n",
       "      <th>리뷰순서</th>\n",
       "      <th>카테고리</th>\n",
       "      <th>브랜드</th>\n",
       "      <th>상품명</th>\n",
       "      <th>작성자</th>\n",
       "      <th>작성 날짜</th>\n",
       "      <th>옵션</th>\n",
       "      <th>사이즈</th>\n",
       "      <th>퀄리티</th>\n",
       "      <th>색감</th>\n",
       "      <th>정보</th>\n",
       "      <th>리뷰 점수</th>\n",
       "      <th>리뷰 코멘트</th>\n",
       "      <th>배송형태</th>\n",
       "      <th>포토리뷰</th>\n",
       "      <th>상품ID</th>\n",
       "    </tr>\n",
       "  </thead>\n",
       "  <tbody>\n",
       "    <tr>\n",
       "      <th>0</th>\n",
       "      <td>1</td>\n",
       "      <td>의류</td>\n",
       "      <td>퍼빗</td>\n",
       "      <td>퍼빗 [랩티1등🏆/누적5만장🩰/모델전색소장💗/평점4.8극찬💭/기모ver.] 단독제작...</td>\n",
       "      <td>솔링이</td>\n",
       "      <td>25.02.01</td>\n",
       "      <td>-3kg블랙</td>\n",
       "      <td>정사이즈예요</td>\n",
       "      <td>아주 만족해요</td>\n",
       "      <td>화면과 비슷해요</td>\n",
       "      <td>158cm42kg상의 44</td>\n",
       "      <td>5</td>\n",
       "      <td>[158/42kg)  이 옷이 유독 슬림해보이는 거 같아요 ㅎㅎ 여리여리한 느낌이 ...</td>\n",
       "      <td>직진</td>\n",
       "      <td>있음</td>\n",
       "      <td>130108350</td>\n",
       "    </tr>\n",
       "    <tr>\n",
       "      <th>1</th>\n",
       "      <td>2</td>\n",
       "      <td>의류</td>\n",
       "      <td>퍼빗</td>\n",
       "      <td>퍼빗 [랩티1등🏆/누적5만장🩰/모델전색소장💗/평점4.8극찬💭/기모ver.] 단독제작...</td>\n",
       "      <td>콩콩땅</td>\n",
       "      <td>25.01.30</td>\n",
       "      <td>발렛베이지</td>\n",
       "      <td>정사이즈예요</td>\n",
       "      <td>아주 만족해요</td>\n",
       "      <td>화면과 비슷해요</td>\n",
       "      <td>158cm50kg상의 44</td>\n",
       "      <td>5</td>\n",
       "      <td>⭐️ 스펙 : 158cm/50kg , 상체 보다 하체 발달형   ⭐️ 핏, 사이즈 ...</td>\n",
       "      <td>직진</td>\n",
       "      <td>있음</td>\n",
       "      <td>130108350</td>\n",
       "    </tr>\n",
       "    <tr>\n",
       "      <th>2</th>\n",
       "      <td>3</td>\n",
       "      <td>의류</td>\n",
       "      <td>퍼빗</td>\n",
       "      <td>퍼빗 [랩티1등🏆/누적5만장🩰/모델전색소장💗/평점4.8극찬💭/기모ver.] 단독제작...</td>\n",
       "      <td>미소세계</td>\n",
       "      <td>25.01.26</td>\n",
       "      <td>발렛베이지</td>\n",
       "      <td>정사이즈예요</td>\n",
       "      <td>아주 만족해요</td>\n",
       "      <td>화면과 비슷해요</td>\n",
       "      <td>160cm53kg상의 55</td>\n",
       "      <td>5</td>\n",
       "      <td>발레코어룩의 정석인 아이템 발견했네여!!!ㅎㅎ 완전 여리여리해보이는 효과가 있어욤ㅠ...</td>\n",
       "      <td>일반</td>\n",
       "      <td>있음</td>\n",
       "      <td>130108350</td>\n",
       "    </tr>\n",
       "  </tbody>\n",
       "</table>\n",
       "</div>"
      ],
      "text/plain": [
       "   리뷰순서 카테고리 브랜드                                                상품명   작성자  \\\n",
       "0     1   의류  퍼빗  퍼빗 [랩티1등🏆/누적5만장🩰/모델전색소장💗/평점4.8극찬💭/기모ver.] 단독제작...   솔링이   \n",
       "1     2   의류  퍼빗  퍼빗 [랩티1등🏆/누적5만장🩰/모델전색소장💗/평점4.8극찬💭/기모ver.] 단독제작...   콩콩땅   \n",
       "2     3   의류  퍼빗  퍼빗 [랩티1등🏆/누적5만장🩰/모델전색소장💗/평점4.8극찬💭/기모ver.] 단독제작...  미소세계   \n",
       "\n",
       "      작성 날짜      옵션     사이즈      퀄리티        색감              정보  리뷰 점수  \\\n",
       "0  25.02.01  -3kg블랙  정사이즈예요  아주 만족해요  화면과 비슷해요  158cm42kg상의 44      5   \n",
       "1  25.01.30   발렛베이지  정사이즈예요  아주 만족해요  화면과 비슷해요  158cm50kg상의 44      5   \n",
       "2  25.01.26   발렛베이지  정사이즈예요  아주 만족해요  화면과 비슷해요  160cm53kg상의 55      5   \n",
       "\n",
       "                                              리뷰 코멘트 배송형태 포토리뷰       상품ID  \n",
       "0  [158/42kg)  이 옷이 유독 슬림해보이는 거 같아요 ㅎㅎ 여리여리한 느낌이 ...   직진   있음  130108350  \n",
       "1  ⭐️ 스펙 : 158cm/50kg , 상체 보다 하체 발달형   ⭐️ 핏, 사이즈 ...   직진   있음  130108350  \n",
       "2  발레코어룩의 정석인 아이템 발견했네여!!!ㅎㅎ 완전 여리여리해보이는 효과가 있어욤ㅠ...   일반   있음  130108350  "
      ]
     },
     "execution_count": 3,
     "metadata": {},
     "output_type": "execute_result"
    }
   ],
   "source": [
    "review['리뷰 코멘트'] = review['리뷰 코멘트'].str.replace('\\n', ' ', regex=False)\n",
    "review.head(3)"
   ]
  },
  {
   "cell_type": "code",
   "execution_count": 4,
   "metadata": {},
   "outputs": [],
   "source": [
    "coment = review['리뷰 코멘트']"
   ]
  },
  {
   "cell_type": "code",
   "execution_count": 5,
   "metadata": {},
   "outputs": [],
   "source": [
    "#불용어 제거\n",
    "import re\n",
    "def clean_str(text):\n",
    "    pattern = '([a-zA-Z0-9_.+-]+@[a-zA-Z0-9-]+\\.[a-zA-Z0-9-.]+)' # E-mail제거\n",
    "    text = re.sub(pattern=pattern, repl='', string=text)\n",
    "    pattern = '(http|ftp|https)://(?:[-\\w.]|(?:%[\\da-fA-F]{2}))+' # URL제거\n",
    "    text = re.sub(pattern=pattern, repl='', string=text)\n",
    "    pattern = '([ㄱ-ㅎㅏ-ㅣ]+)'  # 한글 자음, 모음 제거\n",
    "    text = re.sub(pattern=pattern, repl='', string=text)\n",
    "    pattern = '<[^>]*>'         # HTML 태그 제거\n",
    "    text = re.sub(pattern=pattern, repl='', string=text)\n",
    "    pattern = '[^\\w\\s]'         # 특수기호제거\n",
    "    text = re.sub(pattern=pattern, repl='', string=text)\n",
    "    return text   \n",
    "\n",
    "coments = []\n",
    "for i in coment:\n",
    "    if isinstance(i, str):  # i가 문자열일 경우에만 처리\n",
    "        a = clean_str(i)\n",
    "        coments.append(a)\n",
    "    else:\n",
    "        coments.append('')  # 문자열이 아닌 값은 빈 문자열로 대체"
   ]
  },
  {
   "cell_type": "code",
   "execution_count": 6,
   "metadata": {},
   "outputs": [
    {
     "data": {
      "text/plain": [
       "'15842kg  이 옷이 유독 슬림해보이는 거 같아요  여리여리한 느낌이 최고에요   엄지손 뚫려 있어서 여리여리한 느낌도 나고 브이넥이라 어깨 라인이 예쁘게 나와서 입었을 때 확실히 더 여성스럽고 예뻐요     오픈숄더로도 입을 더보기지그재그 체험단 이벤트로 상품을 무료로 제공받아 작성한 리뷰입니다'"
      ]
     },
     "execution_count": 6,
     "metadata": {},
     "output_type": "execute_result"
    }
   ],
   "source": [
    "coments[0]"
   ]
  },
  {
   "cell_type": "code",
   "execution_count": 7,
   "metadata": {},
   "outputs": [
    {
     "data": {
      "text/plain": [
       "113091"
      ]
     },
     "execution_count": 7,
     "metadata": {},
     "output_type": "execute_result"
    }
   ],
   "source": [
    "len(coments)"
   ]
  },
  {
   "cell_type": "code",
   "execution_count": 8,
   "metadata": {},
   "outputs": [
    {
     "data": {
      "text/plain": [
       "113091"
      ]
     },
     "execution_count": 8,
     "metadata": {},
     "output_type": "execute_result"
    }
   ],
   "source": [
    "len(review['리뷰 코멘트'])"
   ]
  },
  {
   "cell_type": "code",
   "execution_count": 9,
   "metadata": {},
   "outputs": [],
   "source": [
    "from sklearn.feature_extraction.text import CountVectorizer, TfidfVectorizer  ## 방법 2개\n",
    "# 키워드 길이 지정\n",
    "n_gram_range = (1, 1)"
   ]
  },
  {
   "cell_type": "markdown",
   "metadata": {},
   "source": [
    "### 1. count-vectorizer"
   ]
  },
  {
   "cell_type": "code",
   "execution_count": 12,
   "metadata": {},
   "outputs": [
    {
     "name": "stdout",
     "output_type": "stream",
     "text": [
      "['15842kg' '15842kg 옷이' '같아요' '같아요 여리여리한' '나고' '나고 브이넥이라' '나와서' '나와서 입었을'\n",
      " '느낌도' '느낌도 나고' '느낌이' '느낌이 최고에요' '더보기지그재그' '더보기지그재그 체험단' '뚫려' '뚫려 있어서'\n",
      " '라인이' '라인이 예쁘게' '리뷰입니다' '무료로' '무료로 제공받아' '브이넥이라' '브이넥이라 어깨' '상품을'\n",
      " '상품을 무료로' '슬림해보이는' '슬림해보이는 같아요' '어깨' '어깨 라인이' '엄지손' '엄지손 뚫려' '여리여리한'\n",
      " '여리여리한 느낌도' '여리여리한 느낌이' '여성스럽고' '여성스럽고 예뻐요' '예뻐요' '예뻐요 오픈숄더로도' '예쁘게'\n",
      " '예쁘게 나와서' '오픈숄더로도' '오픈숄더로도 입을' '옷이' '옷이 유독' '유독' '유독 슬림해보이는' '이벤트로'\n",
      " '이벤트로 상품을' '입었을' '입었을 확실히' '입을' '입을 더보기지그재그' '있어서' '있어서 여리여리한' '작성한'\n",
      " '작성한 리뷰입니다' '제공받아' '제공받아 작성한' '체험단' '체험단 이벤트로' '최고에요' '최고에요 엄지손' '확실히'\n",
      " '확실히 여성스럽고']\n"
     ]
    }
   ],
   "source": [
    "# 리뷰하나씩 키워드로 분리(count-vectorizer)\n",
    "a= len(coments) # 불용어 제거한 리뷰\n",
    "\n",
    "token_review_list = []\n",
    "n_gram_range = (1, 2)  # 예시로 1-gram, 2-gram 사용\n",
    "\n",
    "for i in range(0, a):  # 리뷰 하나씩 처리\n",
    "    if not coments[i].strip():  # 빈 문자열이면 건너뛰기\n",
    "        token_review_list.append([])  # 빈 리스트 추가\n",
    "        continue\n",
    "    \n",
    "    review_vectorized = CountVectorizer(ngram_range=n_gram_range).fit([coments[i]])\n",
    "    token_review = review_vectorized.get_feature_names_out()\n",
    "    token_review_list.append(token_review)\n",
    "\n",
    "# 결과 확인\n",
    "print(token_review_list[0])"
   ]
  },
  {
   "cell_type": "code",
   "execution_count": 15,
   "metadata": {},
   "outputs": [
    {
     "data": {
      "text/plain": [
       "113091"
      ]
     },
     "execution_count": 15,
     "metadata": {},
     "output_type": "execute_result"
    }
   ],
   "source": [
    "len(token_review_list)"
   ]
  },
  {
   "cell_type": "code",
   "execution_count": 16,
   "metadata": {},
   "outputs": [],
   "source": [
    "review['review_count'] = token_review_list"
   ]
  },
  {
   "cell_type": "markdown",
   "metadata": {},
   "source": [
    "### 2. tfidf-vectorizer"
   ]
  },
  {
   "cell_type": "code",
   "execution_count": 17,
   "metadata": {},
   "outputs": [
    {
     "name": "stdout",
     "output_type": "stream",
     "text": [
      "['15842kg' '15842kg 옷이' '같아요' '같아요 여리여리한' '나고' '나고 브이넥이라' '나와서' '나와서 입었을'\n",
      " '느낌도' '느낌도 나고' '느낌이' '느낌이 최고에요' '더보기지그재그' '더보기지그재그 체험단' '뚫려' '뚫려 있어서'\n",
      " '라인이' '라인이 예쁘게' '리뷰입니다' '무료로' '무료로 제공받아' '브이넥이라' '브이넥이라 어깨' '상품을'\n",
      " '상품을 무료로' '슬림해보이는' '슬림해보이는 같아요' '어깨' '어깨 라인이' '엄지손' '엄지손 뚫려' '여리여리한'\n",
      " '여리여리한 느낌도' '여리여리한 느낌이' '여성스럽고' '여성스럽고 예뻐요' '예뻐요' '예뻐요 오픈숄더로도' '예쁘게'\n",
      " '예쁘게 나와서' '오픈숄더로도' '오픈숄더로도 입을' '옷이' '옷이 유독' '유독' '유독 슬림해보이는' '이벤트로'\n",
      " '이벤트로 상품을' '입었을' '입었을 확실히' '입을' '입을 더보기지그재그' '있어서' '있어서 여리여리한' '작성한'\n",
      " '작성한 리뷰입니다' '제공받아' '제공받아 작성한' '체험단' '체험단 이벤트로' '최고에요' '최고에요 엄지손' '확실히'\n",
      " '확실히 여성스럽고']\n"
     ]
    }
   ],
   "source": [
    "# 리뷰하나씩 키워드로 분리(tfidf-vectorizer)\n",
    "a= len(coments) # 불용어 제거한 리뷰\n",
    "\n",
    "\n",
    "token_review_list = []\n",
    "for i in range(0, a):  # 리뷰 하나씩 처리\n",
    "    if not coments[i].strip():  # 빈 문자열이면 건너뛰기\n",
    "        token_review_list.append([])  # 빈 리스트 추가\n",
    "        continue\n",
    "    \n",
    "    review_vectorized = TfidfVectorizer(ngram_range=n_gram_range).fit([coments[i]])\n",
    "    token_review = review_vectorized.get_feature_names_out()\n",
    "    token_review_list.append(token_review)\n",
    "\n",
    "# 결과 확인\n",
    "print(token_review_list[0])"
   ]
  },
  {
   "cell_type": "code",
   "execution_count": 18,
   "metadata": {},
   "outputs": [
    {
     "data": {
      "text/plain": [
       "113091"
      ]
     },
     "execution_count": 18,
     "metadata": {},
     "output_type": "execute_result"
    }
   ],
   "source": [
    "len(token_review_list)"
   ]
  },
  {
   "cell_type": "code",
   "execution_count": 19,
   "metadata": {},
   "outputs": [],
   "source": [
    "review['review_tfidf'] = token_review_list"
   ]
  },
  {
   "cell_type": "code",
   "execution_count": 20,
   "metadata": {},
   "outputs": [
    {
     "data": {
      "text/html": [
       "<div>\n",
       "<style scoped>\n",
       "    .dataframe tbody tr th:only-of-type {\n",
       "        vertical-align: middle;\n",
       "    }\n",
       "\n",
       "    .dataframe tbody tr th {\n",
       "        vertical-align: top;\n",
       "    }\n",
       "\n",
       "    .dataframe thead th {\n",
       "        text-align: right;\n",
       "    }\n",
       "</style>\n",
       "<table border=\"1\" class=\"dataframe\">\n",
       "  <thead>\n",
       "    <tr style=\"text-align: right;\">\n",
       "      <th></th>\n",
       "      <th>리뷰순서</th>\n",
       "      <th>카테고리</th>\n",
       "      <th>브랜드</th>\n",
       "      <th>상품명</th>\n",
       "      <th>작성자</th>\n",
       "      <th>작성 날짜</th>\n",
       "      <th>옵션</th>\n",
       "      <th>사이즈</th>\n",
       "      <th>퀄리티</th>\n",
       "      <th>색감</th>\n",
       "      <th>정보</th>\n",
       "      <th>리뷰 점수</th>\n",
       "      <th>리뷰 코멘트</th>\n",
       "      <th>배송형태</th>\n",
       "      <th>포토리뷰</th>\n",
       "      <th>상품ID</th>\n",
       "      <th>review_count</th>\n",
       "      <th>review_tfidf</th>\n",
       "    </tr>\n",
       "  </thead>\n",
       "  <tbody>\n",
       "    <tr>\n",
       "      <th>0</th>\n",
       "      <td>1</td>\n",
       "      <td>의류</td>\n",
       "      <td>퍼빗</td>\n",
       "      <td>퍼빗 [랩티1등🏆/누적5만장🩰/모델전색소장💗/평점4.8극찬💭/기모ver.] 단독제작...</td>\n",
       "      <td>솔링이</td>\n",
       "      <td>25.02.01</td>\n",
       "      <td>-3kg블랙</td>\n",
       "      <td>정사이즈예요</td>\n",
       "      <td>아주 만족해요</td>\n",
       "      <td>화면과 비슷해요</td>\n",
       "      <td>158cm42kg상의 44</td>\n",
       "      <td>5</td>\n",
       "      <td>[158/42kg)  이 옷이 유독 슬림해보이는 거 같아요 ㅎㅎ 여리여리한 느낌이 ...</td>\n",
       "      <td>직진</td>\n",
       "      <td>있음</td>\n",
       "      <td>130108350</td>\n",
       "      <td>[15842kg, 15842kg 옷이, 같아요, 같아요 여리여리한, 나고, 나고 브...</td>\n",
       "      <td>[15842kg, 15842kg 옷이, 같아요, 같아요 여리여리한, 나고, 나고 브...</td>\n",
       "    </tr>\n",
       "    <tr>\n",
       "      <th>1</th>\n",
       "      <td>2</td>\n",
       "      <td>의류</td>\n",
       "      <td>퍼빗</td>\n",
       "      <td>퍼빗 [랩티1등🏆/누적5만장🩰/모델전색소장💗/평점4.8극찬💭/기모ver.] 단독제작...</td>\n",
       "      <td>콩콩땅</td>\n",
       "      <td>25.01.30</td>\n",
       "      <td>발렛베이지</td>\n",
       "      <td>정사이즈예요</td>\n",
       "      <td>아주 만족해요</td>\n",
       "      <td>화면과 비슷해요</td>\n",
       "      <td>158cm50kg상의 44</td>\n",
       "      <td>5</td>\n",
       "      <td>⭐️ 스펙 : 158cm/50kg , 상체 보다 하체 발달형   ⭐️ 핏, 사이즈 ...</td>\n",
       "      <td>직진</td>\n",
       "      <td>있음</td>\n",
       "      <td>130108350</td>\n",
       "      <td>[158cm50kg, 158cm50kg 상체, 감싸줘요, 감싸줘요 재질이, 그자체,...</td>\n",
       "      <td>[158cm50kg, 158cm50kg 상체, 감싸줘요, 감싸줘요 재질이, 그자체,...</td>\n",
       "    </tr>\n",
       "  </tbody>\n",
       "</table>\n",
       "</div>"
      ],
      "text/plain": [
       "   리뷰순서 카테고리 브랜드                                                상품명  작성자  \\\n",
       "0     1   의류  퍼빗  퍼빗 [랩티1등🏆/누적5만장🩰/모델전색소장💗/평점4.8극찬💭/기모ver.] 단독제작...  솔링이   \n",
       "1     2   의류  퍼빗  퍼빗 [랩티1등🏆/누적5만장🩰/모델전색소장💗/평점4.8극찬💭/기모ver.] 단독제작...  콩콩땅   \n",
       "\n",
       "      작성 날짜      옵션     사이즈      퀄리티        색감              정보  리뷰 점수  \\\n",
       "0  25.02.01  -3kg블랙  정사이즈예요  아주 만족해요  화면과 비슷해요  158cm42kg상의 44      5   \n",
       "1  25.01.30   발렛베이지  정사이즈예요  아주 만족해요  화면과 비슷해요  158cm50kg상의 44      5   \n",
       "\n",
       "                                              리뷰 코멘트 배송형태 포토리뷰       상품ID  \\\n",
       "0  [158/42kg)  이 옷이 유독 슬림해보이는 거 같아요 ㅎㅎ 여리여리한 느낌이 ...   직진   있음  130108350   \n",
       "1  ⭐️ 스펙 : 158cm/50kg , 상체 보다 하체 발달형   ⭐️ 핏, 사이즈 ...   직진   있음  130108350   \n",
       "\n",
       "                                        review_count  \\\n",
       "0  [15842kg, 15842kg 옷이, 같아요, 같아요 여리여리한, 나고, 나고 브...   \n",
       "1  [158cm50kg, 158cm50kg 상체, 감싸줘요, 감싸줘요 재질이, 그자체,...   \n",
       "\n",
       "                                        review_tfidf  \n",
       "0  [15842kg, 15842kg 옷이, 같아요, 같아요 여리여리한, 나고, 나고 브...  \n",
       "1  [158cm50kg, 158cm50kg 상체, 감싸줘요, 감싸줘요 재질이, 그자체,...  "
      ]
     },
     "execution_count": 20,
     "metadata": {},
     "output_type": "execute_result"
    }
   ],
   "source": [
    "review.head(2)"
   ]
  },
  {
   "cell_type": "code",
   "execution_count": 225,
   "metadata": {},
   "outputs": [],
   "source": [
    "review['clean_count'] = review['review_count'].apply(lambda x: ' '.join(x))\n",
    "review['clean_tfidf'] = review['review_tfidf'].apply(lambda x: ' '.join(x))"
   ]
  },
  {
   "cell_type": "code",
   "execution_count": 228,
   "metadata": {},
   "outputs": [],
   "source": [
    "review.to_csv(\"review_전처리.csv\", index=False, encoding='utf-8-sig')"
   ]
  },
  {
   "cell_type": "code",
   "execution_count": null,
   "metadata": {},
   "outputs": [],
   "source": []
  },
  {
   "cell_type": "code",
   "execution_count": null,
   "metadata": {},
   "outputs": [],
   "source": []
  },
  {
   "cell_type": "code",
   "execution_count": null,
   "metadata": {},
   "outputs": [],
   "source": []
  }
 ],
 "metadata": {
  "kernelspec": {
   "display_name": "nlp_study",
   "language": "python",
   "name": "python3"
  },
  "language_info": {
   "codemirror_mode": {
    "name": "ipython",
    "version": 3
   },
   "file_extension": ".py",
   "mimetype": "text/x-python",
   "name": "python",
   "nbconvert_exporter": "python",
   "pygments_lexer": "ipython3",
   "version": "3.8.18"
  }
 },
 "nbformat": 4,
 "nbformat_minor": 2
}
